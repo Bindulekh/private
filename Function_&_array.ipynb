{
  "nbformat": 4,
  "nbformat_minor": 0,
  "metadata": {
    "colab": {
      "provenance": [],
      "authorship_tag": "ABX9TyMN9pZR9p+Au4LHsIlv0yBZ",
      "include_colab_link": true
    },
    "kernelspec": {
      "name": "python3",
      "display_name": "Python 3"
    },
    "language_info": {
      "name": "python"
    }
  },
  "cells": [
    {
      "cell_type": "markdown",
      "metadata": {
        "id": "view-in-github",
        "colab_type": "text"
      },
      "source": [
        "<a href=\"https://colab.research.google.com/github/Bindulekh/private/blob/main/Function_%26_array.ipynb\" target=\"_parent\"><img src=\"https://colab.research.google.com/assets/colab-badge.svg\" alt=\"Open In Colab\"/></a>"
      ]
    },
    {
      "cell_type": "code",
      "source": [
        "def mean(numbers):\n",
        "  return sum(numbers)/len(numbers)\n",
        "\n",
        "print(mean([10,20,30]))"
      ],
      "metadata": {
        "id": "wCVRezy_36by"
      },
      "execution_count": null,
      "outputs": []
    },
    {
      "cell_type": "code",
      "source": [
        "sorted_list=sorted(list of dicts,key=lambda x:x['key'])"
      ],
      "metadata": {
        "id": "lzUHIePA4rjR"
      },
      "execution_count": null,
      "outputs": []
    },
    {
      "cell_type": "code",
      "source": [
        "filtered_list=list(filter(lambda x:x > treshold, input_list))"
      ],
      "metadata": {
        "id": "IOP6ibbx5I1y"
      },
      "execution_count": null,
      "outputs": []
    },
    {
      "cell_type": "code",
      "source": [
        "upper_list=list(map(lambda x:x.upper(),input_list))"
      ],
      "metadata": {
        "id": "jV7iMFtz5Yle"
      },
      "execution_count": null,
      "outputs": []
    },
    {
      "cell_type": "code",
      "execution_count": 1,
      "metadata": {
        "colab": {
          "base_uri": "https://localhost:8080/"
        },
        "id": "kNoj28c3pfbd",
        "outputId": "ff37f1fc-fa1f-48a9-cfe2-4ead7696c8d4"
      },
      "outputs": [
        {
          "output_type": "stream",
          "name": "stdout",
          "text": [
            "array('i', [10, 20, 30])\n"
          ]
        }
      ],
      "source": [
        "import array as arr\n",
        "\n",
        "numbers = arr.array('i',[10,20,30])\n",
        "\n",
        "print(numbers)\n"
      ]
    },
    {
      "cell_type": "code",
      "source": [
        "import array as arr\n",
        "\n",
        "numbers = arr.array('i',[10.0,20,30])\n",
        "\n",
        "\n",
        "print(numbers)"
      ],
      "metadata": {
        "id": "olttEyJevWrV"
      },
      "execution_count": null,
      "outputs": []
    },
    {
      "cell_type": "code",
      "source": [
        "from array import *\n",
        "\n",
        "#an array of floating point values\n",
        "numbers = array('d',[10.0,20.0,30.0])\n",
        "\n",
        "print(numbers)"
      ],
      "metadata": {
        "id": "Ss7pzKCsvXiS"
      },
      "execution_count": null,
      "outputs": []
    },
    {
      "cell_type": "code",
      "source": [
        "import array as arr\n",
        "\n",
        "numbers = arr.array('i',[10,20,30])\n",
        "\n",
        "\n",
        "print(len(numbers))"
      ],
      "metadata": {
        "id": "5jjKiW_Zvljr"
      },
      "execution_count": null,
      "outputs": []
    },
    {
      "cell_type": "code",
      "source": [
        "import array as arr\n",
        "\n",
        "numbers = arr.array('i',[10,20,30])\n",
        "\n",
        "print(numbers[0]) # gets the 1st element\n",
        "print(numbers[1]) # gets the 2nd element\n",
        "print(numbers[2]) # gets the 3rd element"
      ],
      "metadata": {
        "id": "mMV88cNyvmgy"
      },
      "execution_count": null,
      "outputs": []
    },
    {
      "cell_type": "code",
      "source": [
        "import array as arr\n",
        "\n",
        "numbers = arr.array('i',[10,20,30])\n",
        "\n",
        "print(numbers[-1]) #gets last item\n",
        "print(numbers[-2]) #gets second to last item\n",
        "print(numbers[-3]) #gets first item"
      ],
      "metadata": {
        "id": "2ci6lsZev3XL"
      },
      "execution_count": null,
      "outputs": []
    },
    {
      "cell_type": "code",
      "source": [
        "import array as arr\n",
        "\n",
        "numbers = arr.array('i',[10,20,30])\n",
        "\n",
        "#search for the index of the value 10\n",
        "print(numbers.index(10))\n"
      ],
      "metadata": {
        "id": "mBbAW-ggv-o3"
      },
      "execution_count": null,
      "outputs": []
    },
    {
      "cell_type": "code",
      "source": [
        "import array as arr\n",
        "\n",
        "\n",
        "numbers = arr.array('i',[10,20,30,10,20,30])\n",
        "\n",
        "#search for the index of the value 10\n",
        "#will return the index number of the first instance of the value 10\n",
        "print(numbers.index(10))"
      ],
      "metadata": {
        "id": "YneVXlQ4wC6g"
      },
      "execution_count": null,
      "outputs": []
    },
    {
      "cell_type": "code",
      "source": [
        "import array as arr\n",
        "\n",
        "numbers = arr.array('i',[10,20,30])\n",
        "\n",
        "for number in numbers:\n",
        "    print(number)"
      ],
      "metadata": {
        "id": "QCcX3ZUYwJrz"
      },
      "execution_count": null,
      "outputs": []
    },
    {
      "cell_type": "code",
      "source": [
        "import array as arr\n",
        "\n",
        "values = arr.array('i',[10,20,30])\n",
        "\n",
        "#prints each individual value in the array\n",
        "for value in range(len(values)):\n",
        "    print(values[value])"
      ],
      "metadata": {
        "id": "FMiqZ-ODwSM7"
      },
      "execution_count": null,
      "outputs": []
    },
    {
      "cell_type": "code",
      "source": [
        "import array as arr\n",
        "\n",
        "#original array\n",
        "numbers = arr.array('i',[10,20,30])\n",
        "\n",
        "#get the values 10 and 20 only\n",
        "print(numbers[:2])  #first to second position"
      ],
      "metadata": {
        "id": "-D4CdhGixAB-"
      },
      "execution_count": null,
      "outputs": []
    },
    {
      "cell_type": "code",
      "source": [
        "import array as arr\n",
        "\n",
        "#original array\n",
        "numbers = arr.array('i',[10,20,30])\n",
        "\n",
        "#change the first element\n",
        "#change it from having a value of 10 to having a value of 40\n",
        "numbers[0] = 40\n",
        "\n",
        "print(numbers)"
      ],
      "metadata": {
        "id": "F4txzT5SxEi8"
      },
      "execution_count": null,
      "outputs": []
    },
    {
      "cell_type": "code",
      "source": [
        "import array as arr\n",
        "\n",
        "#original array\n",
        "numbers = arr.array('i',[10,20,30])\n",
        "\n",
        "#add the integer 40 to the end of numbers\n",
        "numbers.append(40)\n",
        "\n",
        "print(numbers)"
      ],
      "metadata": {
        "id": "bkizCLPhxMF9"
      },
      "execution_count": null,
      "outputs": []
    },
    {
      "cell_type": "code",
      "source": [
        "import array as arr\n",
        "\n",
        "#original array\n",
        "numbers = arr.array('i',[10,20,30])\n",
        "\n",
        "#add the float 40.0 to the end of numbers\n",
        "numbers.append(40.0)\n",
        "\n",
        "print(numbers)\n"
      ],
      "metadata": {
        "id": "THfrCQ3TyE7I"
      },
      "execution_count": null,
      "outputs": []
    },
    {
      "cell_type": "code",
      "source": [
        "import array as arr\n",
        "\n",
        "#original array\n",
        "numbers = arr.array('i',[10,20,30])\n",
        "\n",
        "#add the integers 40,50,60 to the end of numbers\n",
        "#The numbers need to be enclosed in square brackets\n",
        "\n",
        "numbers.extend([40,50,60])\n",
        "\n",
        "print(numbers)"
      ],
      "metadata": {
        "id": "1rH71Ci2yKTy"
      },
      "execution_count": null,
      "outputs": []
    },
    {
      "cell_type": "code",
      "source": [
        "import array as arr\n",
        "\n",
        "#original array\n",
        "numbers = arr.array('i',[10,20,30])\n",
        "\n",
        "#add the integer 40 in the first position\n",
        "#remember indexing starts at 0\n",
        "\n",
        "numbers.insert(0,40)\n",
        "\n",
        "print(numbers)"
      ],
      "metadata": {
        "id": "orDXgXp8yRPv"
      },
      "execution_count": null,
      "outputs": []
    },
    {
      "cell_type": "code",
      "source": [
        "import array as arr\n",
        "\n",
        "#original array\n",
        "numbers = arr.array('i',[10,20,30])\n",
        "\n",
        "numbers.remove(10)\n",
        "\n",
        "print(numbers)"
      ],
      "metadata": {
        "id": "EOhgnJk1ya-8"
      },
      "execution_count": null,
      "outputs": []
    },
    {
      "cell_type": "code",
      "source": [
        "import array as arr\n",
        "\n",
        "#original array\n",
        "numbers = arr.array('i',[10,20,30,10,20])\n",
        "\n",
        "numbers.remove(10)\n",
        "\n",
        "print(numbers)\n"
      ],
      "metadata": {
        "id": "BrkHKVH1xRwj"
      },
      "execution_count": null,
      "outputs": []
    },
    {
      "cell_type": "code",
      "source": [
        "import array as arr\n",
        "\n",
        "#original array\n",
        "numbers = arr.array('i',[10,20,30,10,20])\n",
        "\n",
        "#remove the first instance of 10\n",
        "numbers.pop(0)\n",
        "\n",
        "print(numbers)\n"
      ],
      "metadata": {
        "id": "NVuSSaO5yqAd"
      },
      "execution_count": null,
      "outputs": []
    }
  ]
}