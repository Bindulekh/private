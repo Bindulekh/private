{
  "nbformat": 4,
  "nbformat_minor": 0,
  "metadata": {
    "colab": {
      "provenance": [],
      "include_colab_link": true
    },
    "kernelspec": {
      "name": "python3",
      "display_name": "Python 3"
    },
    "language_info": {
      "name": "python"
    }
  },
  "cells": [
    {
      "cell_type": "markdown",
      "metadata": {
        "id": "view-in-github",
        "colab_type": "text"
      },
      "source": [
        "<a href=\"https://colab.research.google.com/github/Bindulekh/private/blob/main/try_cot_colab.ipynb\" target=\"_parent\"><img src=\"https://colab.research.google.com/assets/colab-badge.svg\" alt=\"Open In Colab\"/></a>"
      ]
    },
    {
      "cell_type": "markdown",
      "source": [
        "# Import Library and Code"
      ],
      "metadata": {
        "id": "uK7GHxYAYI36"
      }
    },
    {
      "cell_type": "code",
      "source": [
        "import os"
      ],
      "metadata": {
        "id": "MCwLqbJRv3i8"
      },
      "execution_count": null,
      "outputs": []
    },
    {
      "cell_type": "code",
      "source": [
        "from google.colab import drive\n",
        "drive.mount('/content/drive')"
      ],
      "metadata": {
        "colab": {
          "base_uri": "https://localhost:8080/"
        },
        "id": "TfSDDIVpCLjK",
        "outputId": "bff9a328-5c8d-46b1-fe52-f564ef753072"
      },
      "execution_count": null,
      "outputs": [
        {
          "output_type": "stream",
          "name": "stdout",
          "text": [
            "Drive already mounted at /content/drive; to attempt to forcibly remount, call drive.mount(\"/content/drive\", force_remount=True).\n"
          ]
        }
      ]
    },
    {
      "cell_type": "code",
      "execution_count": null,
      "metadata": {
        "id": "JrC2JhrAuekq",
        "colab": {
          "base_uri": "https://localhost:8080/"
        },
        "outputId": "dd91410d-e7d4-465c-e12e-a8fe4745a9c5"
      },
      "outputs": [
        {
          "output_type": "stream",
          "name": "stdout",
          "text": [
            "Cloning into 'auto-cot'...\n",
            "remote: Enumerating objects: 83, done.\u001b[K\n",
            "remote: Counting objects:   1% (1/83)\u001b[K\rremote: Counting objects:   2% (2/83)\u001b[K\rremote: Counting objects:   3% (3/83)\u001b[K\rremote: Counting objects:   4% (4/83)\u001b[K\rremote: Counting objects:   6% (5/83)\u001b[K\rremote: Counting objects:   7% (6/83)\u001b[K\rremote: Counting objects:   8% (7/83)\u001b[K\rremote: Counting objects:   9% (8/83)\u001b[K\rremote: Counting objects:  10% (9/83)\u001b[K\rremote: Counting objects:  12% (10/83)\u001b[K\rremote: Counting objects:  13% (11/83)\u001b[K\rremote: Counting objects:  14% (12/83)\u001b[K\rremote: Counting objects:  15% (13/83)\u001b[K\rremote: Counting objects:  16% (14/83)\u001b[K\rremote: Counting objects:  18% (15/83)\u001b[K\rremote: Counting objects:  19% (16/83)\u001b[K\rremote: Counting objects:  20% (17/83)\u001b[K\rremote: Counting objects:  21% (18/83)\u001b[K\rremote: Counting objects:  22% (19/83)\u001b[K\rremote: Counting objects:  24% (20/83)\u001b[K\rremote: Counting objects:  25% (21/83)\u001b[K\rremote: Counting objects:  26% (22/83)\u001b[K\rremote: Counting objects:  27% (23/83)\u001b[K\rremote: Counting objects:  28% (24/83)\u001b[K\rremote: Counting objects:  30% (25/83)\u001b[K\rremote: Counting objects:  31% (26/83)\u001b[K\rremote: Counting objects:  32% (27/83)\u001b[K\rremote: Counting objects:  33% (28/83)\u001b[K\rremote: Counting objects:  34% (29/83)\u001b[K\rremote: Counting objects:  36% (30/83)\u001b[K\rremote: Counting objects:  37% (31/83)\u001b[K\rremote: Counting objects:  38% (32/83)\u001b[K\rremote: Counting objects:  39% (33/83)\u001b[K\rremote: Counting objects:  40% (34/83)\u001b[K\rremote: Counting objects:  42% (35/83)\u001b[K\rremote: Counting objects:  43% (36/83)\u001b[K\rremote: Counting objects:  44% (37/83)\u001b[K\rremote: Counting objects:  45% (38/83)\u001b[K\rremote: Counting objects:  46% (39/83)\u001b[K\rremote: Counting objects:  48% (40/83)\u001b[K\rremote: Counting objects:  49% (41/83)\u001b[K\rremote: Counting objects:  50% (42/83)\u001b[K\rremote: Counting objects:  51% (43/83)\u001b[K\rremote: Counting objects:  53% (44/83)\u001b[K\rremote: Counting objects:  54% (45/83)\u001b[K\rremote: Counting objects:  55% (46/83)\u001b[K\rremote: Counting objects:  56% (47/83)\u001b[K\rremote: Counting objects:  57% (48/83)\u001b[K\rremote: Counting objects:  59% (49/83)\u001b[K\rremote: Counting objects:  60% (50/83)\u001b[K\rremote: Counting objects:  61% (51/83)\u001b[K\rremote: Counting objects:  62% (52/83)\u001b[K\rremote: Counting objects:  63% (53/83)\u001b[K\rremote: Counting objects:  65% (54/83)\u001b[K\rremote: Counting objects:  66% (55/83)\u001b[K\rremote: Counting objects:  67% (56/83)\u001b[K\rremote: Counting objects:  68% (57/83)\u001b[K\rremote: Counting objects:  69% (58/83)\u001b[K\rremote: Counting objects:  71% (59/83)\u001b[K\rremote: Counting objects:  72% (60/83)\u001b[K\rremote: Counting objects:  73% (61/83)\u001b[K\rremote: Counting objects:  74% (62/83)\u001b[K\rremote: Counting objects:  75% (63/83)\u001b[K\rremote: Counting objects:  77% (64/83)\u001b[K\rremote: Counting objects:  78% (65/83)\u001b[K\rremote: Counting objects:  79% (66/83)\u001b[K\rremote: Counting objects:  80% (67/83)\u001b[K\rremote: Counting objects:  81% (68/83)\u001b[K\rremote: Counting objects:  83% (69/83)\u001b[K\rremote: Counting objects:  84% (70/83)\u001b[K\rremote: Counting objects:  85% (71/83)\u001b[K\rremote: Counting objects:  86% (72/83)\u001b[K\rremote: Counting objects:  87% (73/83)\u001b[K\rremote: Counting objects:  89% (74/83)\u001b[K\rremote: Counting objects:  90% (75/83)\u001b[K\rremote: Counting objects:  91% (76/83)\u001b[K\rremote: Counting objects:  92% (77/83)\u001b[K\rremote: Counting objects:  93% (78/83)\u001b[K\rremote: Counting objects:  95% (79/83)\u001b[K\rremote: Counting objects:  96% (80/83)\u001b[K\rremote: Counting objects:  97% (81/83)\u001b[K\rremote: Counting objects:  98% (82/83)\u001b[K\rremote: Counting objects: 100% (83/83)\u001b[K\rremote: Counting objects: 100% (83/83), done.\u001b[K\n",
            "remote: Compressing objects:   1% (1/61)\u001b[K\rremote: Compressing objects:   3% (2/61)\u001b[K\rremote: Compressing objects:   4% (3/61)\u001b[K\rremote: Compressing objects:   6% (4/61)\u001b[K\rremote: Compressing objects:   8% (5/61)\u001b[K\rremote: Compressing objects:   9% (6/61)\u001b[K\rremote: Compressing objects:  11% (7/61)\u001b[K\rremote: Compressing objects:  13% (8/61)\u001b[K\rremote: Compressing objects:  14% (9/61)\u001b[K\rremote: Compressing objects:  16% (10/61)\u001b[K\rremote: Compressing objects:  18% (11/61)\u001b[K\rremote: Compressing objects:  19% (12/61)\u001b[K\rremote: Compressing objects:  21% (13/61)\u001b[K\rremote: Compressing objects:  22% (14/61)\u001b[K\rremote: Compressing objects:  24% (15/61)\u001b[K\rremote: Compressing objects:  26% (16/61)\u001b[K\rremote: Compressing objects:  27% (17/61)\u001b[K\rremote: Compressing objects:  29% (18/61)\u001b[K\rremote: Compressing objects:  31% (19/61)\u001b[K\rremote: Compressing objects:  32% (20/61)\u001b[K\rremote: Compressing objects:  34% (21/61)\u001b[K\rremote: Compressing objects:  36% (22/61)\u001b[K\rremote: Compressing objects:  37% (23/61)\u001b[K\rremote: Compressing objects:  39% (24/61)\u001b[K\rremote: Compressing objects:  40% (25/61)\u001b[K\rremote: Compressing objects:  42% (26/61)\u001b[K\rremote: Compressing objects:  44% (27/61)\u001b[K\rremote: Compressing objects:  45% (28/61)\u001b[K\rremote: Compressing objects:  47% (29/61)\u001b[K\rremote: Compressing objects:  49% (30/61)\u001b[K\rremote: Compressing objects:  50% (31/61)\u001b[K\rremote: Compressing objects:  52% (32/61)\u001b[K\rremote: Compressing objects:  54% (33/61)\u001b[K\rremote: Compressing objects:  55% (34/61)\u001b[K\rremote: Compressing objects:  57% (35/61)\u001b[K\rremote: Compressing objects:  59% (36/61)\u001b[K\rremote: Compressing objects:  60% (37/61)\u001b[K\rremote: Compressing objects:  62% (38/61)\u001b[K\rremote: Compressing objects:  63% (39/61)\u001b[K\rremote: Compressing objects:  65% (40/61)\u001b[K\rremote: Compressing objects:  67% (41/61)\u001b[K\rremote: Compressing objects:  68% (42/61)\u001b[K\rremote: Compressing objects:  70% (43/61)\u001b[K\rremote: Compressing objects:  72% (44/61)\u001b[K\rremote: Compressing objects:  73% (45/61)\u001b[K\rremote: Compressing objects:  75% (46/61)\u001b[K\rremote: Compressing objects:  77% (47/61)\u001b[K\rremote: Compressing objects:  78% (48/61)\u001b[K\rremote: Compressing objects:  80% (49/61)\u001b[K\rremote: Compressing objects:  81% (50/61)\u001b[K\rremote: Compressing objects:  83% (51/61)\u001b[K\rremote: Compressing objects:  85% (52/61)\u001b[K\rremote: Compressing objects:  86% (53/61)\u001b[K\rremote: Compressing objects:  88% (54/61)\u001b[K\rremote: Compressing objects:  90% (55/61)\u001b[K\rremote: Compressing objects:  91% (56/61)\u001b[K\rremote: Compressing objects:  93% (57/61)\u001b[K\rremote: Compressing objects:  95% (58/61)\u001b[K\rremote: Compressing objects:  96% (59/61)\u001b[K\rremote: Compressing objects:  98% (60/61)\u001b[K\rremote: Compressing objects: 100% (61/61)\u001b[K\rremote: Compressing objects: 100% (61/61), done.\u001b[K\n",
            "Receiving objects:   1% (1/83)\rReceiving objects:   2% (2/83)\rReceiving objects:   3% (3/83)\rReceiving objects:   4% (4/83)\rReceiving objects:   6% (5/83)\rReceiving objects:   7% (6/83)\rReceiving objects:   8% (7/83)\rReceiving objects:   9% (8/83)\rReceiving objects:  10% (9/83)\rReceiving objects:  12% (10/83)\rReceiving objects:  13% (11/83)\rReceiving objects:  14% (12/83)\rReceiving objects:  15% (13/83)\rReceiving objects:  16% (14/83)\rReceiving objects:  18% (15/83)\rReceiving objects:  19% (16/83)\rReceiving objects:  20% (17/83)\rReceiving objects:  21% (18/83)\rReceiving objects:  22% (19/83)\rReceiving objects:  24% (20/83)\rReceiving objects:  25% (21/83)\rReceiving objects:  26% (22/83)\rReceiving objects:  27% (23/83)\rReceiving objects:  28% (24/83)\rReceiving objects:  30% (25/83)\rReceiving objects:  31% (26/83)\rReceiving objects:  32% (27/83)\rReceiving objects:  33% (28/83)\rReceiving objects:  34% (29/83)\rReceiving objects:  36% (30/83)\rReceiving objects:  37% (31/83)\rReceiving objects:  38% (32/83)\rReceiving objects:  39% (33/83)\rReceiving objects:  40% (34/83)\rReceiving objects:  42% (35/83)\rReceiving objects:  43% (36/83)\rReceiving objects:  44% (37/83)\rReceiving objects:  45% (38/83)\rremote: Total 83 (delta 41), reused 53 (delta 18), pack-reused 0\u001b[K\n",
            "Receiving objects:  46% (39/83)\rReceiving objects:  48% (40/83)\rReceiving objects:  49% (41/83)\rReceiving objects:  50% (42/83)\rReceiving objects:  51% (43/83)\rReceiving objects:  53% (44/83)\rReceiving objects:  54% (45/83)\rReceiving objects:  55% (46/83)\rReceiving objects:  56% (47/83)\rReceiving objects:  57% (48/83)\rReceiving objects:  59% (49/83)\rReceiving objects:  60% (50/83)\rReceiving objects:  61% (51/83)\rReceiving objects:  62% (52/83)\rReceiving objects:  63% (53/83)\rReceiving objects:  65% (54/83)\rReceiving objects:  66% (55/83)\rReceiving objects:  67% (56/83)\rReceiving objects:  68% (57/83)\rReceiving objects:  69% (58/83)\rReceiving objects:  71% (59/83)\rReceiving objects:  72% (60/83)\rReceiving objects:  73% (61/83)\rReceiving objects:  74% (62/83)\rReceiving objects:  75% (63/83)\rReceiving objects:  77% (64/83)\rReceiving objects:  78% (65/83)\rReceiving objects:  79% (66/83)\rReceiving objects:  80% (67/83)\rReceiving objects:  81% (68/83)\rReceiving objects:  83% (69/83)\rReceiving objects:  84% (70/83)\rReceiving objects:  85% (71/83)\rReceiving objects:  86% (72/83)\rReceiving objects:  87% (73/83)\rReceiving objects:  89% (74/83)\rReceiving objects:  90% (75/83)\rReceiving objects:  91% (76/83)\rReceiving objects:  92% (77/83)\rReceiving objects:  93% (78/83)\rReceiving objects:  95% (79/83)\rReceiving objects:  96% (80/83)\rReceiving objects:  97% (81/83)\rReceiving objects:  98% (82/83)\rReceiving objects: 100% (83/83)\rReceiving objects: 100% (83/83), 39.76 KiB | 13.25 MiB/s, done.\n",
            "Resolving deltas:   0% (0/41)\rResolving deltas:   2% (1/41)\rResolving deltas:   4% (2/41)\rResolving deltas:   7% (3/41)\rResolving deltas:   9% (4/41)\rResolving deltas:  12% (5/41)\rResolving deltas:  14% (6/41)\rResolving deltas:  17% (7/41)\rResolving deltas:  19% (8/41)\rResolving deltas:  21% (9/41)\rResolving deltas:  24% (10/41)\rResolving deltas:  26% (11/41)\rResolving deltas:  29% (12/41)\rResolving deltas:  31% (13/41)\rResolving deltas:  34% (14/41)\rResolving deltas:  36% (15/41)\rResolving deltas:  39% (16/41)\rResolving deltas:  41% (17/41)\rResolving deltas:  43% (18/41)\rResolving deltas:  46% (19/41)\rResolving deltas:  48% (20/41)\rResolving deltas:  51% (21/41)\rResolving deltas:  53% (22/41)\rResolving deltas:  56% (23/41)\rResolving deltas:  58% (24/41)\rResolving deltas:  60% (25/41)\rResolving deltas:  63% (26/41)\rResolving deltas:  65% (27/41)\rResolving deltas:  68% (28/41)\rResolving deltas:  70% (29/41)\rResolving deltas:  73% (30/41)\rResolving deltas:  75% (31/41)\rResolving deltas:  78% (32/41)\rResolving deltas:  80% (33/41)\rResolving deltas:  82% (34/41)\rResolving deltas:  85% (35/41)\rResolving deltas:  87% (36/41)\rResolving deltas:  90% (37/41)\rResolving deltas:  92% (38/41)\rResolving deltas:  95% (39/41)\rResolving deltas:  97% (40/41)\rResolving deltas: 100% (41/41)\rResolving deltas: 100% (41/41), done.\n",
            "/content/auto-cot/auto-cot/auto-cot\n"
          ]
        }
      ],
      "source": [
        "!git clone https://github.com/amazon-science/auto-cot.git\n",
        "%cd auto-cot"
      ]
    },
    {
      "cell_type": "code",
      "source": [
        "!pip install langchain_community"
      ],
      "metadata": {
        "colab": {
          "base_uri": "https://localhost:8080/"
        },
        "id": "CrolkS8bjZt6",
        "outputId": "eef7e7b1-1111-41d0-c39f-23800e0a5ffc"
      },
      "execution_count": null,
      "outputs": [
        {
          "output_type": "stream",
          "name": "stdout",
          "text": [
            "Requirement already satisfied: langchain_community in /usr/local/lib/python3.10/dist-packages (0.2.7)\n",
            "Requirement already satisfied: PyYAML>=5.3 in /usr/local/lib/python3.10/dist-packages (from langchain_community) (6.0.1)\n",
            "Requirement already satisfied: SQLAlchemy<3,>=1.4 in /usr/local/lib/python3.10/dist-packages (from langchain_community) (2.0.31)\n",
            "Requirement already satisfied: aiohttp<4.0.0,>=3.8.3 in /usr/local/lib/python3.10/dist-packages (from langchain_community) (3.9.5)\n",
            "Requirement already satisfied: dataclasses-json<0.7,>=0.5.7 in /usr/local/lib/python3.10/dist-packages (from langchain_community) (0.6.7)\n",
            "Requirement already satisfied: langchain<0.3.0,>=0.2.7 in /usr/local/lib/python3.10/dist-packages (from langchain_community) (0.2.7)\n",
            "Requirement already satisfied: langchain-core<0.3.0,>=0.2.12 in /usr/local/lib/python3.10/dist-packages (from langchain_community) (0.2.13)\n",
            "Requirement already satisfied: langsmith<0.2.0,>=0.1.0 in /usr/local/lib/python3.10/dist-packages (from langchain_community) (0.1.85)\n",
            "Requirement already satisfied: numpy<2,>=1 in /usr/local/lib/python3.10/dist-packages (from langchain_community) (1.25.2)\n",
            "Requirement already satisfied: requests<3,>=2 in /usr/local/lib/python3.10/dist-packages (from langchain_community) (2.31.0)\n",
            "Requirement already satisfied: tenacity!=8.4.0,<9.0.0,>=8.1.0 in /usr/local/lib/python3.10/dist-packages (from langchain_community) (8.4.2)\n",
            "Requirement already satisfied: aiosignal>=1.1.2 in /usr/local/lib/python3.10/dist-packages (from aiohttp<4.0.0,>=3.8.3->langchain_community) (1.3.1)\n",
            "Requirement already satisfied: attrs>=17.3.0 in /usr/local/lib/python3.10/dist-packages (from aiohttp<4.0.0,>=3.8.3->langchain_community) (23.2.0)\n",
            "Requirement already satisfied: frozenlist>=1.1.1 in /usr/local/lib/python3.10/dist-packages (from aiohttp<4.0.0,>=3.8.3->langchain_community) (1.4.1)\n",
            "Requirement already satisfied: multidict<7.0,>=4.5 in /usr/local/lib/python3.10/dist-packages (from aiohttp<4.0.0,>=3.8.3->langchain_community) (6.0.5)\n",
            "Requirement already satisfied: yarl<2.0,>=1.0 in /usr/local/lib/python3.10/dist-packages (from aiohttp<4.0.0,>=3.8.3->langchain_community) (1.9.4)\n",
            "Requirement already satisfied: async-timeout<5.0,>=4.0 in /usr/local/lib/python3.10/dist-packages (from aiohttp<4.0.0,>=3.8.3->langchain_community) (4.0.3)\n",
            "Requirement already satisfied: marshmallow<4.0.0,>=3.18.0 in /usr/local/lib/python3.10/dist-packages (from dataclasses-json<0.7,>=0.5.7->langchain_community) (3.21.3)\n",
            "Requirement already satisfied: typing-inspect<1,>=0.4.0 in /usr/local/lib/python3.10/dist-packages (from dataclasses-json<0.7,>=0.5.7->langchain_community) (0.9.0)\n",
            "Requirement already satisfied: langchain-text-splitters<0.3.0,>=0.2.0 in /usr/local/lib/python3.10/dist-packages (from langchain<0.3.0,>=0.2.7->langchain_community) (0.2.2)\n",
            "Requirement already satisfied: pydantic<3,>=1 in /usr/local/lib/python3.10/dist-packages (from langchain<0.3.0,>=0.2.7->langchain_community) (2.8.0)\n",
            "Requirement already satisfied: jsonpatch<2.0,>=1.33 in /usr/local/lib/python3.10/dist-packages (from langchain-core<0.3.0,>=0.2.12->langchain_community) (1.33)\n",
            "Requirement already satisfied: packaging<25,>=23.2 in /usr/local/lib/python3.10/dist-packages (from langchain-core<0.3.0,>=0.2.12->langchain_community) (24.1)\n",
            "Requirement already satisfied: orjson<4.0.0,>=3.9.14 in /usr/local/lib/python3.10/dist-packages (from langsmith<0.2.0,>=0.1.0->langchain_community) (3.10.6)\n",
            "Requirement already satisfied: charset-normalizer<4,>=2 in /usr/local/lib/python3.10/dist-packages (from requests<3,>=2->langchain_community) (3.3.2)\n",
            "Requirement already satisfied: idna<4,>=2.5 in /usr/local/lib/python3.10/dist-packages (from requests<3,>=2->langchain_community) (3.7)\n",
            "Requirement already satisfied: urllib3<3,>=1.21.1 in /usr/local/lib/python3.10/dist-packages (from requests<3,>=2->langchain_community) (2.0.7)\n",
            "Requirement already satisfied: certifi>=2017.4.17 in /usr/local/lib/python3.10/dist-packages (from requests<3,>=2->langchain_community) (2024.6.2)\n",
            "Requirement already satisfied: typing-extensions>=4.6.0 in /usr/local/lib/python3.10/dist-packages (from SQLAlchemy<3,>=1.4->langchain_community) (4.12.2)\n",
            "Requirement already satisfied: greenlet!=0.4.17 in /usr/local/lib/python3.10/dist-packages (from SQLAlchemy<3,>=1.4->langchain_community) (3.0.3)\n",
            "Requirement already satisfied: jsonpointer>=1.9 in /usr/local/lib/python3.10/dist-packages (from jsonpatch<2.0,>=1.33->langchain-core<0.3.0,>=0.2.12->langchain_community) (3.0.0)\n",
            "Requirement already satisfied: annotated-types>=0.4.0 in /usr/local/lib/python3.10/dist-packages (from pydantic<3,>=1->langchain<0.3.0,>=0.2.7->langchain_community) (0.7.0)\n",
            "Requirement already satisfied: pydantic-core==2.20.0 in /usr/local/lib/python3.10/dist-packages (from pydantic<3,>=1->langchain<0.3.0,>=0.2.7->langchain_community) (2.20.0)\n",
            "Requirement already satisfied: mypy-extensions>=0.3.0 in /usr/local/lib/python3.10/dist-packages (from typing-inspect<1,>=0.4.0->dataclasses-json<0.7,>=0.5.7->langchain_community) (1.0.0)\n"
          ]
        }
      ]
    },
    {
      "cell_type": "code",
      "source": [
        "from langchain.utilities import GoogleSerperAPIWrapper\n",
        "\n",
        "google_search = GoogleSerperAPIWrapper(serper_api_key='API_KEY')"
      ],
      "metadata": {
        "id": "oTgGDPwpjNoi"
      },
      "execution_count": null,
      "outputs": []
    },
    {
      "cell_type": "markdown",
      "source": [
        "# Zero-shot-COT, Manual-COT, Auto-COT"
      ],
      "metadata": {
        "id": "6ORRibRtYBMp"
      }
    },
    {
      "cell_type": "code",
      "source": [
        "!pip install google-generativeai\n",
        "from langchain.llms import GooglePalm"
      ],
      "metadata": {
        "colab": {
          "base_uri": "https://localhost:8080/"
        },
        "id": "MEkOaQDY0zwv",
        "outputId": "459b5afc-28b4-4689-a154-3c6359ea4df2"
      },
      "execution_count": null,
      "outputs": [
        {
          "output_type": "stream",
          "name": "stdout",
          "text": [
            "Requirement already satisfied: google-generativeai in /usr/local/lib/python3.10/dist-packages (0.5.4)\n",
            "Requirement already satisfied: google-ai-generativelanguage==0.6.4 in /usr/local/lib/python3.10/dist-packages (from google-generativeai) (0.6.4)\n",
            "Requirement already satisfied: google-api-core in /usr/local/lib/python3.10/dist-packages (from google-generativeai) (2.16.2)\n",
            "Requirement already satisfied: google-api-python-client in /usr/local/lib/python3.10/dist-packages (from google-generativeai) (2.84.0)\n",
            "Requirement already satisfied: google-auth>=2.15.0 in /usr/local/lib/python3.10/dist-packages (from google-generativeai) (2.27.0)\n",
            "Requirement already satisfied: protobuf in /usr/local/lib/python3.10/dist-packages (from google-generativeai) (3.20.3)\n",
            "Requirement already satisfied: pydantic in /usr/local/lib/python3.10/dist-packages (from google-generativeai) (2.8.0)\n",
            "Requirement already satisfied: tqdm in /usr/local/lib/python3.10/dist-packages (from google-generativeai) (4.66.4)\n",
            "Requirement already satisfied: typing-extensions in /usr/local/lib/python3.10/dist-packages (from google-generativeai) (4.12.2)\n",
            "Requirement already satisfied: proto-plus<2.0.0dev,>=1.22.3 in /usr/local/lib/python3.10/dist-packages (from google-ai-generativelanguage==0.6.4->google-generativeai) (1.24.0)\n",
            "Requirement already satisfied: cachetools<6.0,>=2.0.0 in /usr/local/lib/python3.10/dist-packages (from google-auth>=2.15.0->google-generativeai) (5.3.3)\n",
            "Requirement already satisfied: pyasn1-modules>=0.2.1 in /usr/local/lib/python3.10/dist-packages (from google-auth>=2.15.0->google-generativeai) (0.4.0)\n",
            "Requirement already satisfied: rsa<5,>=3.1.4 in /usr/local/lib/python3.10/dist-packages (from google-auth>=2.15.0->google-generativeai) (4.9)\n",
            "Requirement already satisfied: googleapis-common-protos<2.0.dev0,>=1.56.2 in /usr/local/lib/python3.10/dist-packages (from google-api-core->google-generativeai) (1.63.2)\n",
            "Requirement already satisfied: requests<3.0.0.dev0,>=2.18.0 in /usr/local/lib/python3.10/dist-packages (from google-api-core->google-generativeai) (2.31.0)\n",
            "Requirement already satisfied: httplib2<1dev,>=0.15.0 in /usr/local/lib/python3.10/dist-packages (from google-api-python-client->google-generativeai) (0.22.0)\n",
            "Requirement already satisfied: google-auth-httplib2>=0.1.0 in /usr/local/lib/python3.10/dist-packages (from google-api-python-client->google-generativeai) (0.1.1)\n",
            "Requirement already satisfied: uritemplate<5,>=3.0.1 in /usr/local/lib/python3.10/dist-packages (from google-api-python-client->google-generativeai) (4.1.1)\n",
            "Requirement already satisfied: annotated-types>=0.4.0 in /usr/local/lib/python3.10/dist-packages (from pydantic->google-generativeai) (0.7.0)\n",
            "Requirement already satisfied: pydantic-core==2.20.0 in /usr/local/lib/python3.10/dist-packages (from pydantic->google-generativeai) (2.20.0)\n",
            "Requirement already satisfied: grpcio<2.0dev,>=1.33.2 in /usr/local/lib/python3.10/dist-packages (from google-api-core->google-generativeai) (1.64.1)\n",
            "Requirement already satisfied: grpcio-status<2.0.dev0,>=1.33.2 in /usr/local/lib/python3.10/dist-packages (from google-api-core->google-generativeai) (1.48.2)\n",
            "Requirement already satisfied: pyparsing!=3.0.0,!=3.0.1,!=3.0.2,!=3.0.3,<4,>=2.4.2 in /usr/local/lib/python3.10/dist-packages (from httplib2<1dev,>=0.15.0->google-api-python-client->google-generativeai) (3.1.2)\n",
            "Requirement already satisfied: pyasn1<0.7.0,>=0.4.6 in /usr/local/lib/python3.10/dist-packages (from pyasn1-modules>=0.2.1->google-auth>=2.15.0->google-generativeai) (0.6.0)\n",
            "Requirement already satisfied: charset-normalizer<4,>=2 in /usr/local/lib/python3.10/dist-packages (from requests<3.0.0.dev0,>=2.18.0->google-api-core->google-generativeai) (3.3.2)\n",
            "Requirement already satisfied: idna<4,>=2.5 in /usr/local/lib/python3.10/dist-packages (from requests<3.0.0.dev0,>=2.18.0->google-api-core->google-generativeai) (3.7)\n",
            "Requirement already satisfied: urllib3<3,>=1.21.1 in /usr/local/lib/python3.10/dist-packages (from requests<3.0.0.dev0,>=2.18.0->google-api-core->google-generativeai) (2.0.7)\n",
            "Requirement already satisfied: certifi>=2017.4.17 in /usr/local/lib/python3.10/dist-packages (from requests<3.0.0.dev0,>=2.18.0->google-api-core->google-generativeai) (2024.6.2)\n"
          ]
        }
      ]
    },
    {
      "cell_type": "code",
      "source": [
        "\n",
        "api_key ='Google API Key'\n",
        "\n",
        "# Initialize the LLM using the `from_credentials` method\n",
        "llm = GooglePalm(model_name=\"models/text-bison-001\",temperature=0,google_api_key = api_key)\n",
        "\n",
        "chain = LLMChain(llm=llm, prompt=chat_prompt)\n",
        "\n",
        "# Define the cot function\n",
        "def cot(method, question):\n",
        "    if method == \"zero_shot_cot\":\n",
        "        response = chain.run(question=question)\n",
        "        print(response)\n",
        "    else:\n",
        "        print(\"Invalid method.\")\n",
        "\n",
        "question = \"There were 10 friends playing a video game online when 7 players quit. If each player left had 8 lives, how many lives did they have total?\"\n",
        "print(\"Example: Zero-Shot-CoT\")\n",
        "cot(method=\"zero_shot_cot\", question=question)"
      ],
      "metadata": {
        "colab": {
          "base_uri": "https://localhost:8080/",
          "height": 52
        },
        "id": "XYWUGZkQyTRP",
        "outputId": "6bce85d7-bc20-4cd2-fd70-ab9302214d97"
      },
      "execution_count": null,
      "outputs": [
        {
          "output_type": "stream",
          "name": "stdout",
          "text": [
            "Example: Zero-Shot-CoT\n",
            "56\n"
          ]
        }
      ]
    },
    {
      "cell_type": "code",
      "source": [
        "# Initialize the LLM using the `from_credentials` method\n",
        "llm = GooglePalm(model_name=\"models/text-bison-001\",temperature=0,google_api_key = api_key)\n",
        "\n",
        "chain = LLMChain(llm=llm, prompt=chat_prompt)  # Assuming 'chat_prompt' is defined elsewhere\n",
        "\n",
        "# Define the cot function\n",
        "def cot(method, question):\n",
        "    if method == \"zero_shot_cot\":\n",
        "        response = chain.run(question=question)\n",
        "        print(response)\n",
        "    elif method == \"manual_cot\":\n",
        "        reasoning = \"To find the points earned, first find the number of enemies destroyed: 11 total enemies - 8 remaining enemies = 3 enemies destroyed. Then multiply the number of enemies destroyed by the points per enemy: 3 enemies * 7 points/enemy = 21 points.\" # Define the reasoning here\n",
        "        response = chain.run(question=question + \"\\nReasoning: \" + reasoning)  # Incorporate reasoning into the prompt\n",
        "        print(response)\n",
        "    else:\n",
        "        print(\"Invalid method.\")\n",
        "\n",
        "question = \"In a video game, each enemy defeated gives you 7 points. If a level has 11 enemies total and you destroy all but 8 of them, how many points would you earn?\"\n",
        "print(\"\\nExample: Manual CoT\")\n",
        "cot(method=\"manual_cot\", question=question)"
      ],
      "metadata": {
        "colab": {
          "base_uri": "https://localhost:8080/",
          "height": 69
        },
        "id": "JFYfGdkW1dpw",
        "outputId": "62bb7b40-eedb-473e-ef23-8cf344bbfe63"
      },
      "execution_count": null,
      "outputs": [
        {
          "output_type": "stream",
          "name": "stdout",
          "text": [
            "\n",
            "Example: Manual CoT\n",
            "21\n"
          ]
        }
      ]
    },
    {
      "cell_type": "code",
      "source": [
        "# Initialize the LLM using the `from_credentials` method\n",
        "llm = GooglePalm(model_name=\"models/text-bison-001\",temperature=0,google_api_key = api_key)\n",
        "\n",
        "chain = LLMChain(llm=llm, prompt=chat_prompt)  # Assuming 'chat_prompt' is defined elsewhere\n",
        "\n",
        "# Define the cot function\n",
        "def cot(method, question):\n",
        "    if method == \"zero_shot_cot\":\n",
        "        response = chain.run(question=question)\n",
        "        print(response)\n",
        "    elif method == \"manual_cot\":\n",
        "        reasoning = \"To find the points earned, first find the number of enemies destroyed: 11 total enemies - 8 remaining enemies = 3 enemies destroyed. Then multiply the number of enemies destroyed by the points per enemy: 3 enemies * 7 points/enemy = 21 points.\"\n",
        "        response = chain.run(question=question + \"\\nReasoning: \" + reasoning)\n",
        "        print(response)\n",
        "    elif method == \"auto_cot\":\n",
        "        # This is a placeholder, you'd need to implement actual Auto-CoT logic here\n",
        "        reasoning = \"Automatically generated reasoning...\"\n",
        "        response = chain.run(question=question + \"\\nReasoning: \" + reasoning)\n",
        "        print(response)\n",
        "    else:\n",
        "        print(\"Invalid method.\")\n",
        "\n",
        "question = \"In a video game, each enemy defeated gives you 7 points. If a level has 11 enemies total and you destroy all but 8 of them, how many points would you earn?\"\n",
        "print(\"\\nExample: Auto-CoT\")\n",
        "cot(method=\"auto_cot\", question=question)\n"
      ],
      "metadata": {
        "colab": {
          "base_uri": "https://localhost:8080/",
          "height": 141
        },
        "id": "2rIpKGDbxVIN",
        "outputId": "f0b8ce4b-68f7-4069-9e0d-239c86aa2cab"
      },
      "execution_count": null,
      "outputs": [
        {
          "output_type": "stream",
          "name": "stdout",
          "text": [
            "\n",
            "Example: Auto-CoT\n"
          ]
        },
        {
          "output_type": "stream",
          "name": "stderr",
          "text": [
            "ERROR:tornado.access:500 POST /v1beta/models/text-bison-001:generateText?%24alt=json%3Benum-encoding%3Dint (127.0.0.1) 3246.17ms\n",
            "WARNING:langchain_core.language_models.llms:Retrying langchain_community.llms.google_palm.completion_with_retry.<locals>._completion_with_retry in 4.0 seconds as it raised InternalServerError: 500 POST https://generativelanguage.googleapis.com/v1beta/models/text-bison-001:generateText?%24alt=json%3Benum-encoding%3Dint: An internal error has occurred. Please retry or report in https://developers.generativeai.google/guide/troubleshooting.\n"
          ]
        },
        {
          "output_type": "stream",
          "name": "stdout",
          "text": [
            "\n",
            "Answer: 11 - 8 = 3\n"
          ]
        }
      ]
    }
  ]
}