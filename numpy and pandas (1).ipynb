{
 "cells": [
  {
   "cell_type": "code",
   "execution_count": 2,
   "id": "7f600776-d512-4ae9-968e-7177036b8528",
   "metadata": {},
   "outputs": [],
   "source": [
    "import numpy as np\n",
    "a = np.array([[1, 2], [3, 4]])"
   ]
  },
  {
   "cell_type": "code",
   "execution_count": 3,
   "id": "4c9e21f3-1fb3-4c9d-9ac3-b6b649b041f0",
   "metadata": {},
   "outputs": [],
   "source": [
    "import numpy as np\n",
    "array1 = np.array([[2, 4, 6],\n",
    "                  [1, 3, 5]])"
   ]
  },
  {
   "cell_type": "code",
   "execution_count": 4,
   "id": "50cfa7ff-3ec6-4403-bebc-fa95e25b4395",
   "metadata": {},
   "outputs": [
    {
     "data": {
      "text/plain": [
       "array([[2, 4, 6],\n",
       "       [1, 3, 5]])"
      ]
     },
     "execution_count": 4,
     "metadata": {},
     "output_type": "execute_result"
    }
   ],
   "source": [
    "array1\n"
   ]
  },
  {
   "cell_type": "code",
   "execution_count": 5,
   "id": "ef4a4d6a-84b6-44ae-bcf5-e26ba45a0c0a",
   "metadata": {},
   "outputs": [
    {
     "data": {
      "text/plain": [
       "2"
      ]
     },
     "execution_count": 5,
     "metadata": {},
     "output_type": "execute_result"
    }
   ],
   "source": [
    "array1.ndim"
   ]
  },
  {
   "cell_type": "code",
   "execution_count": 6,
   "id": "243fa0c0-fc97-4f48-9521-85f6e58f41b3",
   "metadata": {},
   "outputs": [
    {
     "data": {
      "text/plain": [
       "2"
      ]
     },
     "execution_count": 6,
     "metadata": {},
     "output_type": "execute_result"
    }
   ],
   "source": [
    "a.ndim"
   ]
  },
  {
   "cell_type": "code",
   "execution_count": 7,
   "id": "b8ebe5e2-4ee2-49c4-9474-ddf0b580ef9f",
   "metadata": {},
   "outputs": [
    {
     "data": {
      "text/plain": [
       "(2, 3)"
      ]
     },
     "execution_count": 7,
     "metadata": {},
     "output_type": "execute_result"
    }
   ],
   "source": [
    "array1.shape"
   ]
  },
  {
   "cell_type": "code",
   "execution_count": 8,
   "id": "e4f78386-caf9-448e-8587-a6ec69ab384f",
   "metadata": {},
   "outputs": [
    {
     "data": {
      "text/plain": [
       "6"
      ]
     },
     "execution_count": 8,
     "metadata": {},
     "output_type": "execute_result"
    }
   ],
   "source": [
    "array1.size"
   ]
  },
  {
   "cell_type": "code",
   "execution_count": 9,
   "id": "fa6614f6-3b40-4024-ba77-c5665584a161",
   "metadata": {},
   "outputs": [
    {
     "data": {
      "text/plain": [
       "dtype('int32')"
      ]
     },
     "execution_count": 9,
     "metadata": {},
     "output_type": "execute_result"
    }
   ],
   "source": [
    "array1.dtype"
   ]
  },
  {
   "cell_type": "code",
   "execution_count": 10,
   "id": "7a5aed3e-a75a-486b-b9f8-1b80b5f8f98a",
   "metadata": {},
   "outputs": [
    {
     "data": {
      "text/plain": [
       "4"
      ]
     },
     "execution_count": 10,
     "metadata": {},
     "output_type": "execute_result"
    }
   ],
   "source": [
    "array1.itemsize"
   ]
  },
  {
   "cell_type": "code",
   "execution_count": 11,
   "id": "7da58cf0-b5c1-4d69-b234-61637511f832",
   "metadata": {},
   "outputs": [
    {
     "data": {
      "text/plain": [
       "2.5"
      ]
     },
     "execution_count": 11,
     "metadata": {},
     "output_type": "execute_result"
    }
   ],
   "source": [
    "np.mean(a)"
   ]
  },
  {
   "cell_type": "code",
   "execution_count": 12,
   "id": "6b8f7a0b-b823-49cb-a135-7b5bafdf6328",
   "metadata": {},
   "outputs": [],
   "source": [
    "a = np.array([1, 2, 5, 7, 8]) \n"
   ]
  },
  {
   "cell_type": "code",
   "execution_count": 13,
   "id": "da3e14c0-7b21-4efe-8e29-d87cd76c3f6b",
   "metadata": {},
   "outputs": [],
   "source": [
    "a[1:3] = -1 \n"
   ]
  },
  {
   "cell_type": "code",
   "execution_count": 14,
   "id": "351508d9-bba3-4fbd-9d8c-59407ed1b1ff",
   "metadata": {},
   "outputs": [
    {
     "data": {
      "text/plain": [
       "array([ 1, -1, -1,  7,  8])"
      ]
     },
     "execution_count": 14,
     "metadata": {},
     "output_type": "execute_result"
    }
   ],
   "source": [
    "a"
   ]
  },
  {
   "cell_type": "code",
   "execution_count": 15,
   "id": "d47e4823-a0f9-4961-948e-3ad81dd281b1",
   "metadata": {},
   "outputs": [],
   "source": [
    "b = [1, 2, 5, 7, 8]\n"
   ]
  },
  {
   "cell_type": "code",
   "execution_count": 16,
   "id": "a3091e10-80bf-450f-b74f-e4e2182afb7b",
   "metadata": {},
   "outputs": [
    {
     "ename": "TypeError",
     "evalue": "can only assign an iterable",
     "output_type": "error",
     "traceback": [
      "\u001b[1;31m---------------------------------------------------------------------------\u001b[0m",
      "\u001b[1;31mTypeError\u001b[0m                                 Traceback (most recent call last)",
      "Cell \u001b[1;32mIn[16], line 1\u001b[0m\n\u001b[1;32m----> 1\u001b[0m \u001b[43mb\u001b[49m\u001b[43m[\u001b[49m\u001b[38;5;241;43m1\u001b[39;49m\u001b[43m:\u001b[49m\u001b[38;5;241;43m3\u001b[39;49m\u001b[43m]\u001b[49m \u001b[38;5;241m=\u001b[39m \u001b[38;5;241m-\u001b[39m\u001b[38;5;241m1\u001b[39m\n",
      "\u001b[1;31mTypeError\u001b[0m: can only assign an iterable"
     ]
    }
   ],
   "source": [
    "b[1:3] = -1\n"
   ]
  },
  {
   "cell_type": "code",
   "execution_count": null,
   "id": "8ab87599-1ff8-4fc8-97e0-0c65f53c4e8d",
   "metadata": {},
   "outputs": [],
   "source": [
    "a = np.array([1, 2, 5, 7, 8])"
   ]
  },
  {
   "cell_type": "code",
   "execution_count": 17,
   "id": "f72a9fc4-54fe-4a24-b49d-4293a758fd34",
   "metadata": {},
   "outputs": [],
   "source": [
    "a_slice = a[1:5]\n"
   ]
  },
  {
   "cell_type": "code",
   "execution_count": 18,
   "id": "2908b987-fdff-4fef-b216-fd400a390dab",
   "metadata": {},
   "outputs": [],
   "source": [
    "a_slice[1] = 1000"
   ]
  },
  {
   "cell_type": "code",
   "execution_count": 19,
   "id": "2b69ef6f-ddf3-428c-ad78-9c723250eb65",
   "metadata": {},
   "outputs": [
    {
     "data": {
      "text/plain": [
       "array([   1,   -1, 1000,    7,    8])"
      ]
     },
     "execution_count": 19,
     "metadata": {},
     "output_type": "execute_result"
    }
   ],
   "source": [
    "a"
   ]
  },
  {
   "cell_type": "code",
   "execution_count": 20,
   "id": "1f5b8749-758e-405f-a1da-eea1cfa44fde",
   "metadata": {},
   "outputs": [],
   "source": [
    "a=[1,2,5,7,8]"
   ]
  },
  {
   "cell_type": "code",
   "execution_count": 21,
   "id": "ea82e78f-748a-4967-bd42-5285c6d24891",
   "metadata": {},
   "outputs": [],
   "source": [
    "b=a[1:5]\n"
   ]
  },
  {
   "cell_type": "code",
   "execution_count": 22,
   "id": "a6b24bf4-4406-4377-9b5b-950281b6296a",
   "metadata": {},
   "outputs": [
    {
     "data": {
      "text/plain": [
       "[2, 5, 7, 8]"
      ]
     },
     "execution_count": 22,
     "metadata": {},
     "output_type": "execute_result"
    }
   ],
   "source": [
    "b"
   ]
  },
  {
   "cell_type": "code",
   "execution_count": 23,
   "id": "d85834f4-6558-4446-8642-21d28615a535",
   "metadata": {},
   "outputs": [],
   "source": [
    "b[1]=3\n"
   ]
  },
  {
   "cell_type": "code",
   "execution_count": 24,
   "id": "362fb548-89ea-42fd-afa7-3269e700fb39",
   "metadata": {},
   "outputs": [
    {
     "data": {
      "text/plain": [
       "[1, 2, 5, 7, 8]"
      ]
     },
     "execution_count": 24,
     "metadata": {},
     "output_type": "execute_result"
    }
   ],
   "source": [
    "a"
   ]
  },
  {
   "cell_type": "code",
   "execution_count": 25,
   "id": "99607173-d77f-44d0-bbd2-88f5646e95f8",
   "metadata": {},
   "outputs": [
    {
     "data": {
      "text/plain": [
       "[2, 3, 7, 8]"
      ]
     },
     "execution_count": 25,
     "metadata": {},
     "output_type": "execute_result"
    }
   ],
   "source": [
    "b"
   ]
  },
  {
   "cell_type": "code",
   "execution_count": 26,
   "id": "6147aacd-f23d-468e-96df-87838adcc309",
   "metadata": {},
   "outputs": [
    {
     "data": {
      "text/plain": [
       "array([5, 6, 7, 8])"
      ]
     },
     "execution_count": 26,
     "metadata": {},
     "output_type": "execute_result"
    }
   ],
   "source": [
    "np.arange(4)+5"
   ]
  },
  {
   "cell_type": "code",
   "execution_count": 27,
   "id": "5d494895-9b5f-4387-be9e-912f8d1e6273",
   "metadata": {},
   "outputs": [],
   "source": [
    "in_arr1 = np.array([[2, -7, 5], [-6, 2, 0]]) "
   ]
  },
  {
   "cell_type": "code",
   "execution_count": 28,
   "id": "7e66d749-4fb8-4d19-a6e4-3cb5925d2c3b",
   "metadata": {},
   "outputs": [],
   "source": [
    "in_arr2 = np.array([[0, -7, 8], [5, -2, 9]]) "
   ]
  },
  {
   "cell_type": "code",
   "execution_count": 29,
   "id": "77dfb661-34a8-445a-8f02-fcf9623d8f60",
   "metadata": {},
   "outputs": [],
   "source": [
    "out_arr = np.multiply(in_arr1, in_arr2)  "
   ]
  },
  {
   "cell_type": "code",
   "execution_count": 30,
   "id": "4ac1166b-4bb3-49dc-8025-a5d018750804",
   "metadata": {},
   "outputs": [
    {
     "data": {
      "text/plain": [
       "array([[  0,  49,  40],\n",
       "       [-30,  -4,   0]])"
      ]
     },
     "execution_count": 30,
     "metadata": {},
     "output_type": "execute_result"
    }
   ],
   "source": [
    "out_arr"
   ]
  },
  {
   "cell_type": "code",
   "execution_count": 31,
   "id": "083b0fc7-0d16-4a3e-87c8-911e4ad220ff",
   "metadata": {},
   "outputs": [
    {
     "ename": "ValueError",
     "evalue": "shapes (2,3) and (2,3) not aligned: 3 (dim 1) != 2 (dim 0)",
     "output_type": "error",
     "traceback": [
      "\u001b[1;31m---------------------------------------------------------------------------\u001b[0m",
      "\u001b[1;31mValueError\u001b[0m                                Traceback (most recent call last)",
      "Cell \u001b[1;32mIn[31], line 1\u001b[0m\n\u001b[1;32m----> 1\u001b[0m out_arr \u001b[38;5;241m=\u001b[39m \u001b[43mnp\u001b[49m\u001b[38;5;241;43m.\u001b[39;49m\u001b[43mdot\u001b[49m\u001b[43m(\u001b[49m\u001b[43min_arr1\u001b[49m\u001b[43m,\u001b[49m\u001b[43m \u001b[49m\u001b[43min_arr2\u001b[49m\u001b[43m)\u001b[49m  \n",
      "\u001b[1;31mValueError\u001b[0m: shapes (2,3) and (2,3) not aligned: 3 (dim 1) != 2 (dim 0)"
     ]
    }
   ],
   "source": [
    "out_arr = np.dot(in_arr1, in_arr2)  "
   ]
  },
  {
   "cell_type": "code",
   "execution_count": 32,
   "id": "5ea02aa4-f8cc-4e9e-b088-83b1f1e7387d",
   "metadata": {},
   "outputs": [],
   "source": [
    "Marix_a = np.array([[1, 4], [5, 6]])"
   ]
  },
  {
   "cell_type": "code",
   "execution_count": 33,
   "id": "1be5bbb2-e5e9-4515-8318-987574173cb9",
   "metadata": {},
   "outputs": [],
   "source": [
    "Marix_b = np.array([[1, 2], [3, 6]])"
   ]
  },
  {
   "cell_type": "code",
   "execution_count": 34,
   "id": "1530a4b9-c418-4220-a1ca-5672ec210557",
   "metadata": {},
   "outputs": [],
   "source": [
    "out_arr = np.dot(Marix_a, Marix_b)  "
   ]
  },
  {
   "cell_type": "code",
   "execution_count": 35,
   "id": "97d77d74-57ad-416e-8514-3c8e9d9492b9",
   "metadata": {},
   "outputs": [
    {
     "data": {
      "text/plain": [
       "array([[13, 26],\n",
       "       [23, 46]])"
      ]
     },
     "execution_count": 35,
     "metadata": {},
     "output_type": "execute_result"
    }
   ],
   "source": [
    "out_arr"
   ]
  },
  {
   "cell_type": "code",
   "execution_count": 38,
   "id": "8ff5d8f2-6e90-4afe-b9db-0e8c56ed2c4d",
   "metadata": {},
   "outputs": [],
   "source": [
    "import pandas as pd\n",
    "dataf = pd.DataFrame([\n",
    "    ['John Smith','123 Main St',34],\n",
    "    ['Jane Doe', '456 Maple Ave',28],\n",
    "    ['Joe Schmo', '789 Broadway',51]\n",
    "    ],\n",
    "    columns=['name','address','age'])"
   ]
  },
  {
   "cell_type": "code",
   "execution_count": 39,
   "id": "9bd99533-1e08-4fc8-adf3-550144a99da8",
   "metadata": {},
   "outputs": [
    {
     "data": {
      "text/html": [
       "<div>\n",
       "<style scoped>\n",
       "    .dataframe tbody tr th:only-of-type {\n",
       "        vertical-align: middle;\n",
       "    }\n",
       "\n",
       "    .dataframe tbody tr th {\n",
       "        vertical-align: top;\n",
       "    }\n",
       "\n",
       "    .dataframe thead th {\n",
       "        text-align: right;\n",
       "    }\n",
       "</style>\n",
       "<table border=\"1\" class=\"dataframe\">\n",
       "  <thead>\n",
       "    <tr style=\"text-align: right;\">\n",
       "      <th></th>\n",
       "      <th>name</th>\n",
       "      <th>address</th>\n",
       "      <th>age</th>\n",
       "    </tr>\n",
       "  </thead>\n",
       "  <tbody>\n",
       "    <tr>\n",
       "      <th>0</th>\n",
       "      <td>John Smith</td>\n",
       "      <td>123 Main St</td>\n",
       "      <td>34</td>\n",
       "    </tr>\n",
       "    <tr>\n",
       "      <th>1</th>\n",
       "      <td>Jane Doe</td>\n",
       "      <td>456 Maple Ave</td>\n",
       "      <td>28</td>\n",
       "    </tr>\n",
       "    <tr>\n",
       "      <th>2</th>\n",
       "      <td>Joe Schmo</td>\n",
       "      <td>789 Broadway</td>\n",
       "      <td>51</td>\n",
       "    </tr>\n",
       "  </tbody>\n",
       "</table>\n",
       "</div>"
      ],
      "text/plain": [
       "         name        address  age\n",
       "0  John Smith    123 Main St   34\n",
       "1    Jane Doe  456 Maple Ave   28\n",
       "2   Joe Schmo   789 Broadway   51"
      ]
     },
     "execution_count": 39,
     "metadata": {},
     "output_type": "execute_result"
    }
   ],
   "source": [
    "dataf"
   ]
  },
  {
   "cell_type": "code",
   "execution_count": 40,
   "id": "f7211216-a41c-4ad8-a49f-309b739cfe7d",
   "metadata": {},
   "outputs": [],
   "source": [
    "a = np.array([1, 2, 3, 4, 5, 6]) "
   ]
  },
  {
   "cell_type": "code",
   "execution_count": 41,
   "id": "be84aa0a-d992-45c8-86ed-506e97bb7be8",
   "metadata": {},
   "outputs": [],
   "source": [
    "a.resize(2,3)"
   ]
  },
  {
   "cell_type": "code",
   "execution_count": 42,
   "id": "ce69ca0e-8106-4782-985d-de01f1de1cf7",
   "metadata": {},
   "outputs": [
    {
     "data": {
      "text/plain": [
       "array([[1, 2, 3],\n",
       "       [4, 5, 6]])"
      ]
     },
     "execution_count": 42,
     "metadata": {},
     "output_type": "execute_result"
    }
   ],
   "source": [
    "a"
   ]
  },
  {
   "cell_type": "code",
   "execution_count": 43,
   "id": "b740ed41-a4bb-43e2-80cd-73167b7316c9",
   "metadata": {},
   "outputs": [],
   "source": [
    "a = np.array([1, 2, 3, 4, 5, 6]) "
   ]
  },
  {
   "cell_type": "code",
   "execution_count": 44,
   "id": "d4eac4fe-15e0-4a5e-b552-eb1d55ecabf6",
   "metadata": {},
   "outputs": [],
   "source": [
    "a.resize(3,4)"
   ]
  },
  {
   "cell_type": "code",
   "execution_count": 45,
   "id": "43ff1854-615f-4ccc-9cb1-4797783a9a6f",
   "metadata": {},
   "outputs": [
    {
     "data": {
      "text/plain": [
       "array([[1, 2, 3, 4],\n",
       "       [5, 6, 0, 0],\n",
       "       [0, 0, 0, 0]])"
      ]
     },
     "execution_count": 45,
     "metadata": {},
     "output_type": "execute_result"
    }
   ],
   "source": [
    "a"
   ]
  },
  {
   "cell_type": "code",
   "execution_count": 46,
   "id": "69a062ca-10c9-466d-a096-ffa5d2c035d2",
   "metadata": {},
   "outputs": [],
   "source": [
    "df = pd.DataFrame({\"Name\": [\"Tom\", \"Mike\", \"Tiffany\"],\n",
    "                   \"Language\": [\"Python\", \"Python\", \"R\"],\n",
    "                   \"Courses\": [5, 4, 7]})\n"
   ]
  },
  {
   "cell_type": "code",
   "execution_count": 47,
   "id": "eb92e8fe-fb98-4b42-924d-c42381e1bf46",
   "metadata": {},
   "outputs": [
    {
     "data": {
      "text/html": [
       "<div>\n",
       "<style scoped>\n",
       "    .dataframe tbody tr th:only-of-type {\n",
       "        vertical-align: middle;\n",
       "    }\n",
       "\n",
       "    .dataframe tbody tr th {\n",
       "        vertical-align: top;\n",
       "    }\n",
       "\n",
       "    .dataframe thead th {\n",
       "        text-align: right;\n",
       "    }\n",
       "</style>\n",
       "<table border=\"1\" class=\"dataframe\">\n",
       "  <thead>\n",
       "    <tr style=\"text-align: right;\">\n",
       "      <th></th>\n",
       "      <th>Name</th>\n",
       "      <th>Language</th>\n",
       "      <th>Courses</th>\n",
       "    </tr>\n",
       "  </thead>\n",
       "  <tbody>\n",
       "    <tr>\n",
       "      <th>0</th>\n",
       "      <td>Tom</td>\n",
       "      <td>Python</td>\n",
       "      <td>5</td>\n",
       "    </tr>\n",
       "    <tr>\n",
       "      <th>1</th>\n",
       "      <td>Mike</td>\n",
       "      <td>Python</td>\n",
       "      <td>4</td>\n",
       "    </tr>\n",
       "    <tr>\n",
       "      <th>2</th>\n",
       "      <td>Tiffany</td>\n",
       "      <td>R</td>\n",
       "      <td>7</td>\n",
       "    </tr>\n",
       "  </tbody>\n",
       "</table>\n",
       "</div>"
      ],
      "text/plain": [
       "      Name Language  Courses\n",
       "0      Tom   Python        5\n",
       "1     Mike   Python        4\n",
       "2  Tiffany        R        7"
      ]
     },
     "execution_count": 47,
     "metadata": {},
     "output_type": "execute_result"
    }
   ],
   "source": [
    "df"
   ]
  },
  {
   "cell_type": "code",
   "execution_count": 48,
   "id": "e19755c5-8237-4c97-8b5c-a5674eb24dbf",
   "metadata": {},
   "outputs": [],
   "source": [
    "mylist=[1,2,3]"
   ]
  },
  {
   "cell_type": "code",
   "execution_count": 49,
   "id": "67b0a8f6-3e22-496a-897a-a683f14557c7",
   "metadata": {},
   "outputs": [],
   "source": [
    "n=np.array(mylist)"
   ]
  },
  {
   "cell_type": "code",
   "execution_count": 50,
   "id": "5535fe05-c692-4046-b8f5-eec5a134f51a",
   "metadata": {},
   "outputs": [
    {
     "data": {
      "text/plain": [
       "list"
      ]
     },
     "execution_count": 50,
     "metadata": {},
     "output_type": "execute_result"
    }
   ],
   "source": [
    "type(mylist)"
   ]
  },
  {
   "cell_type": "code",
   "execution_count": 51,
   "id": "96bf00a8-c50c-4954-9da0-8e8a4d5ce6e1",
   "metadata": {},
   "outputs": [
    {
     "data": {
      "text/plain": [
       "numpy.ndarray"
      ]
     },
     "execution_count": 51,
     "metadata": {},
     "output_type": "execute_result"
    }
   ],
   "source": [
    "type(n)"
   ]
  },
  {
   "cell_type": "code",
   "execution_count": 52,
   "id": "7fdf5ab7-6cf7-4ceb-827a-85cf98fa234c",
   "metadata": {},
   "outputs": [],
   "source": [
    "list=np.array([[1,2,3],[4,5,6]])"
   ]
  },
  {
   "cell_type": "code",
   "execution_count": 53,
   "id": "46b87594-675c-4b06-a008-70c6256598f3",
   "metadata": {},
   "outputs": [
    {
     "data": {
      "text/plain": [
       "array([[1, 2, 3],\n",
       "       [4, 5, 6]])"
      ]
     },
     "execution_count": 53,
     "metadata": {},
     "output_type": "execute_result"
    }
   ],
   "source": [
    "list"
   ]
  },
  {
   "cell_type": "code",
   "execution_count": 54,
   "id": "d3512f18-9b6f-46d9-a12f-fd27e21dc8c7",
   "metadata": {},
   "outputs": [
    {
     "data": {
      "text/plain": [
       "(2, 3)"
      ]
     },
     "execution_count": 54,
     "metadata": {},
     "output_type": "execute_result"
    }
   ],
   "source": [
    "list.shape"
   ]
  },
  {
   "cell_type": "code",
   "execution_count": 55,
   "id": "d75f2900-8857-4b70-8a42-b1ddf0277554",
   "metadata": {},
   "outputs": [
    {
     "data": {
      "text/plain": [
       "array([0, 1, 2, 3, 4, 5, 6, 7, 8, 9])"
      ]
     },
     "execution_count": 55,
     "metadata": {},
     "output_type": "execute_result"
    }
   ],
   "source": [
    "np.arange(10)"
   ]
  },
  {
   "cell_type": "code",
   "execution_count": 56,
   "id": "741d6553-6aaf-47c4-b16f-49951ff5c9a5",
   "metadata": {},
   "outputs": [
    {
     "data": {
      "text/plain": [
       "range(0, 10)"
      ]
     },
     "execution_count": 56,
     "metadata": {},
     "output_type": "execute_result"
    }
   ],
   "source": [
    "range(10)"
   ]
  },
  {
   "cell_type": "code",
   "execution_count": 57,
   "id": "600971ab-29ba-4b2f-b15a-0c314cb0a66e",
   "metadata": {},
   "outputs": [],
   "source": [
    "a=range(10)"
   ]
  },
  {
   "cell_type": "code",
   "execution_count": 58,
   "id": "bd0ac120-f32d-43c1-bc21-efa9735c40d6",
   "metadata": {},
   "outputs": [
    {
     "data": {
      "text/plain": [
       "range(0, 10)"
      ]
     },
     "execution_count": 58,
     "metadata": {},
     "output_type": "execute_result"
    }
   ],
   "source": [
    "a"
   ]
  },
  {
   "cell_type": "code",
   "execution_count": 59,
   "id": "adb7faed-bebc-491f-a046-14afb0ac3150",
   "metadata": {},
   "outputs": [
    {
     "name": "stdout",
     "output_type": "stream",
     "text": [
      "range(0, 10)\n"
     ]
    }
   ],
   "source": [
    "print(a)"
   ]
  },
  {
   "cell_type": "code",
   "execution_count": 60,
   "id": "aa1805e5-af6f-49ee-a1f7-6b2172afd3af",
   "metadata": {},
   "outputs": [],
   "source": [
    "zero=np.zeros(50)"
   ]
  },
  {
   "cell_type": "code",
   "execution_count": 61,
   "id": "436c8ca9-32c0-49df-b15e-0839b4da594d",
   "metadata": {},
   "outputs": [
    {
     "data": {
      "text/plain": [
       "array([0., 0., 0., 0., 0., 0., 0., 0., 0., 0., 0., 0., 0., 0., 0., 0., 0.,\n",
       "       0., 0., 0., 0., 0., 0., 0., 0., 0., 0., 0., 0., 0., 0., 0., 0., 0.,\n",
       "       0., 0., 0., 0., 0., 0., 0., 0., 0., 0., 0., 0., 0., 0., 0., 0.])"
      ]
     },
     "execution_count": 61,
     "metadata": {},
     "output_type": "execute_result"
    }
   ],
   "source": [
    "zero"
   ]
  },
  {
   "cell_type": "code",
   "execution_count": 62,
   "id": "a9b1a404-fd8b-456c-bf3d-0385f04acf11",
   "metadata": {},
   "outputs": [
    {
     "data": {
      "text/plain": [
       "array([[1., 1., 1.],\n",
       "       [1., 1., 1.],\n",
       "       [1., 1., 1.]])"
      ]
     },
     "execution_count": 62,
     "metadata": {},
     "output_type": "execute_result"
    }
   ],
   "source": [
    "np.ones((3,3))"
   ]
  },
  {
   "cell_type": "code",
   "execution_count": 63,
   "id": "7bd4c481-ec59-48ed-9760-1e2b0a32d0f8",
   "metadata": {},
   "outputs": [
    {
     "data": {
      "text/plain": [
       "array([1., 1.])"
      ]
     },
     "execution_count": 63,
     "metadata": {},
     "output_type": "execute_result"
    }
   ],
   "source": [
    "np.ones(2,)"
   ]
  },
  {
   "cell_type": "code",
   "execution_count": 64,
   "id": "98c97d0d-8a55-487e-83bc-651055dfc176",
   "metadata": {},
   "outputs": [
    {
     "data": {
      "text/plain": [
       "array([[1., 0., 0., 0., 0., 0., 0., 0., 0., 0.],\n",
       "       [0., 1., 0., 0., 0., 0., 0., 0., 0., 0.],\n",
       "       [0., 0., 1., 0., 0., 0., 0., 0., 0., 0.],\n",
       "       [0., 0., 0., 1., 0., 0., 0., 0., 0., 0.],\n",
       "       [0., 0., 0., 0., 1., 0., 0., 0., 0., 0.],\n",
       "       [0., 0., 0., 0., 0., 1., 0., 0., 0., 0.],\n",
       "       [0., 0., 0., 0., 0., 0., 1., 0., 0., 0.],\n",
       "       [0., 0., 0., 0., 0., 0., 0., 1., 0., 0.],\n",
       "       [0., 0., 0., 0., 0., 0., 0., 0., 1., 0.],\n",
       "       [0., 0., 0., 0., 0., 0., 0., 0., 0., 1.]])"
      ]
     },
     "execution_count": 64,
     "metadata": {},
     "output_type": "execute_result"
    }
   ],
   "source": [
    "np.eye(10)"
   ]
  },
  {
   "cell_type": "code",
   "execution_count": 65,
   "id": "884e34f5-abbf-424d-a382-c159d658b83b",
   "metadata": {},
   "outputs": [],
   "source": [
    "mn=np.arange(0,50)"
   ]
  },
  {
   "cell_type": "code",
   "execution_count": 66,
   "id": "385456fa-a754-4bac-878b-c8dc457152d0",
   "metadata": {},
   "outputs": [
    {
     "data": {
      "text/plain": [
       "array([ 0,  1,  2,  3,  4,  5,  6,  7,  8,  9, 10, 11, 12, 13, 14, 15, 16,\n",
       "       17, 18, 19, 20, 21, 22, 23, 24, 25, 26, 27, 28, 29, 30, 31, 32, 33,\n",
       "       34, 35, 36, 37, 38, 39, 40, 41, 42, 43, 44, 45, 46, 47, 48, 49])"
      ]
     },
     "execution_count": 66,
     "metadata": {},
     "output_type": "execute_result"
    }
   ],
   "source": [
    "mn"
   ]
  },
  {
   "cell_type": "code",
   "execution_count": 67,
   "id": "0bc36165-c943-4be9-8b87-aee5daea34c1",
   "metadata": {},
   "outputs": [
    {
     "data": {
      "text/plain": [
       "50"
      ]
     },
     "execution_count": 67,
     "metadata": {},
     "output_type": "execute_result"
    }
   ],
   "source": [
    "len(mn)"
   ]
  },
  {
   "cell_type": "code",
   "execution_count": 68,
   "id": "5b4c202c-4b86-4861-a6fc-816c5cda1f3f",
   "metadata": {},
   "outputs": [
    {
     "data": {
      "text/plain": [
       "array([[ 0,  1,  2,  3,  4,  5,  6,  7,  8,  9],\n",
       "       [10, 11, 12, 13, 14, 15, 16, 17, 18, 19],\n",
       "       [20, 21, 22, 23, 24, 25, 26, 27, 28, 29],\n",
       "       [30, 31, 32, 33, 34, 35, 36, 37, 38, 39],\n",
       "       [40, 41, 42, 43, 44, 45, 46, 47, 48, 49]])"
      ]
     },
     "execution_count": 68,
     "metadata": {},
     "output_type": "execute_result"
    }
   ],
   "source": [
    "mn.reshape(5,10)"
   ]
  },
  {
   "cell_type": "code",
   "execution_count": 69,
   "id": "360e592b-9e86-4a38-9d34-24540f1717fe",
   "metadata": {},
   "outputs": [
    {
     "data": {
      "text/plain": [
       "array([ 0,  1,  2,  3,  4,  5,  6,  7,  8,  9, 10, 11, 12, 13, 14, 15, 16,\n",
       "       17, 18, 19, 20, 21, 22, 23, 24, 25, 26, 27, 28, 29, 30, 31, 32, 33,\n",
       "       34, 35, 36, 37, 38, 39, 40, 41, 42, 43, 44, 45, 46, 47, 48, 49])"
      ]
     },
     "execution_count": 69,
     "metadata": {},
     "output_type": "execute_result"
    }
   ],
   "source": [
    "mn"
   ]
  },
  {
   "cell_type": "code",
   "execution_count": 70,
   "id": "99eddc32-7402-4bf9-ac63-19e1ec19a9b4",
   "metadata": {},
   "outputs": [],
   "source": [
    "o=np.linspace(0,7,10)"
   ]
  },
  {
   "cell_type": "code",
   "execution_count": 71,
   "id": "3083f0cb-f3e5-4f69-94cc-5dd9ebdbc531",
   "metadata": {},
   "outputs": [
    {
     "data": {
      "text/plain": [
       "array([0.        , 0.77777778, 1.55555556, 2.33333333, 3.11111111,\n",
       "       3.88888889, 4.66666667, 5.44444444, 6.22222222, 7.        ])"
      ]
     },
     "execution_count": 71,
     "metadata": {},
     "output_type": "execute_result"
    }
   ],
   "source": [
    "o"
   ]
  },
  {
   "cell_type": "code",
   "execution_count": 72,
   "id": "5aab32ca-3b04-4b73-adf8-d60f180db2a6",
   "metadata": {},
   "outputs": [
    {
     "data": {
      "text/plain": [
       "10"
      ]
     },
     "execution_count": 72,
     "metadata": {},
     "output_type": "execute_result"
    }
   ],
   "source": [
    "len(o)"
   ]
  },
  {
   "cell_type": "code",
   "execution_count": 73,
   "id": "9b69de4d-4412-4dab-a5db-d5d5ce01b166",
   "metadata": {},
   "outputs": [],
   "source": [
    "o.resize(5,2)"
   ]
  },
  {
   "cell_type": "code",
   "execution_count": 74,
   "id": "0eaaa08f-5359-4875-9f8a-8198bf32a14f",
   "metadata": {},
   "outputs": [
    {
     "data": {
      "text/plain": [
       "array([[0.        , 0.77777778],\n",
       "       [1.55555556, 2.33333333],\n",
       "       [3.11111111, 3.88888889],\n",
       "       [4.66666667, 5.44444444],\n",
       "       [6.22222222, 7.        ]])"
      ]
     },
     "execution_count": 74,
     "metadata": {},
     "output_type": "execute_result"
    }
   ],
   "source": [
    "o"
   ]
  },
  {
   "cell_type": "code",
   "execution_count": 75,
   "id": "1a7435f9-f9c1-4644-a564-f458055673b2",
   "metadata": {},
   "outputs": [
    {
     "data": {
      "text/plain": [
       "array([7, 5, 5, 2, 6, 3, 4, 1, 8])"
      ]
     },
     "execution_count": 75,
     "metadata": {},
     "output_type": "execute_result"
    }
   ],
   "source": [
    "np.random.randint(1,10,9)"
   ]
  },
  {
   "cell_type": "code",
   "execution_count": 76,
   "id": "1afaa177-8f37-4c5f-a975-8794c435755f",
   "metadata": {},
   "outputs": [],
   "source": [
    "mn=np.random.randint(4,15,10)"
   ]
  },
  {
   "cell_type": "code",
   "execution_count": 77,
   "id": "ac50872a-a9ad-454d-93e7-9ad0f17d7cd0",
   "metadata": {},
   "outputs": [
    {
     "data": {
      "text/plain": [
       "array([ 6,  9,  9,  9,  4,  5, 10,  5,  5,  4])"
      ]
     },
     "execution_count": 77,
     "metadata": {},
     "output_type": "execute_result"
    }
   ],
   "source": [
    "mn"
   ]
  },
  {
   "cell_type": "code",
   "execution_count": 78,
   "id": "7f3b1627-4ebe-47aa-b1af-1f1f32fcc13a",
   "metadata": {},
   "outputs": [
    {
     "data": {
      "text/plain": [
       "9"
      ]
     },
     "execution_count": 78,
     "metadata": {},
     "output_type": "execute_result"
    }
   ],
   "source": [
    "mn[1]"
   ]
  },
  {
   "cell_type": "code",
   "execution_count": 79,
   "id": "5c1bc7f7-dfe5-4a3a-8a14-a2298be66fb2",
   "metadata": {},
   "outputs": [
    {
     "data": {
      "text/plain": [
       "4"
      ]
     },
     "execution_count": 79,
     "metadata": {},
     "output_type": "execute_result"
    }
   ],
   "source": [
    "mn[-1]"
   ]
  },
  {
   "cell_type": "code",
   "execution_count": 80,
   "id": "181d603e-a608-48b9-9e4b-fd5f5a5f2f22",
   "metadata": {},
   "outputs": [
    {
     "data": {
      "text/plain": [
       "array([10,  5,  5])"
      ]
     },
     "execution_count": 80,
     "metadata": {},
     "output_type": "execute_result"
    }
   ],
   "source": [
    "mn[6:9]"
   ]
  },
  {
   "cell_type": "code",
   "execution_count": 81,
   "id": "23f08477-f983-4cc8-a6e7-f34af3b20941",
   "metadata": {},
   "outputs": [
    {
     "data": {
      "text/plain": [
       "array([ 9,  4,  5, 10,  5,  5,  4])"
      ]
     },
     "execution_count": 81,
     "metadata": {},
     "output_type": "execute_result"
    }
   ],
   "source": [
    "mn[3:]"
   ]
  },
  {
   "cell_type": "code",
   "execution_count": 82,
   "id": "0846440d-7e4f-4c66-880e-eef0efb02c54",
   "metadata": {},
   "outputs": [
    {
     "data": {
      "text/plain": [
       "array([ 5, 10,  5])"
      ]
     },
     "execution_count": 82,
     "metadata": {},
     "output_type": "execute_result"
    }
   ],
   "source": [
    "mn[5:-2]"
   ]
  },
  {
   "cell_type": "code",
   "execution_count": 83,
   "id": "65ccfa4e-738d-4888-98e2-a691e6f39aff",
   "metadata": {},
   "outputs": [],
   "source": [
    "mypets=['Lion','cat','birds']"
   ]
  },
  {
   "cell_type": "code",
   "execution_count": 84,
   "id": "0167605f-c80d-4de9-8985-48f97389b88c",
   "metadata": {
    "scrolled": true
   },
   "outputs": [
    {
     "data": {
      "text/plain": [
       "['Lion', 'cat', 'birds']"
      ]
     },
     "execution_count": 84,
     "metadata": {},
     "output_type": "execute_result"
    }
   ],
   "source": [
    "mypets"
   ]
  },
  {
   "cell_type": "code",
   "execution_count": 85,
   "id": "6057d31f-843b-45de-aa70-8a6d244fe246",
   "metadata": {},
   "outputs": [
    {
     "data": {
      "text/plain": [
       "0     Lion\n",
       "1      cat\n",
       "2    birds\n",
       "dtype: object"
      ]
     },
     "execution_count": 85,
     "metadata": {},
     "output_type": "execute_result"
    }
   ],
   "source": [
    "import pandas as pd\n",
    "pd.Series(mypets)"
   ]
  },
  {
   "cell_type": "code",
   "execution_count": 86,
   "id": "11735146-77f6-466d-ac07-91b3959b7bae",
   "metadata": {},
   "outputs": [],
   "source": [
    "days=['Mon','Tue','Wed']"
   ]
  },
  {
   "cell_type": "code",
   "execution_count": 87,
   "id": "a6003b48-12fd-4f2f-8fbd-38da471b9670",
   "metadata": {},
   "outputs": [],
   "source": [
    "course=['Economics','Science','SST']"
   ]
  },
  {
   "cell_type": "code",
   "execution_count": 88,
   "id": "91a08081-8030-48e8-be17-b159b39c1b9a",
   "metadata": {},
   "outputs": [
    {
     "data": {
      "text/plain": [
       "0    Economics\n",
       "1      Science\n",
       "2          SST\n",
       "dtype: object"
      ]
     },
     "execution_count": 88,
     "metadata": {},
     "output_type": "execute_result"
    }
   ],
   "source": [
    "pd.Series(course)"
   ]
  },
  {
   "cell_type": "code",
   "execution_count": 89,
   "id": "01cb86f4-4b71-4e79-93af-8238145b40ff",
   "metadata": {},
   "outputs": [
    {
     "data": {
      "text/plain": [
       "Mon    Economics\n",
       "Tue      Science\n",
       "Wed          SST\n",
       "dtype: object"
      ]
     },
     "execution_count": 89,
     "metadata": {},
     "output_type": "execute_result"
    }
   ],
   "source": [
    "pd.Series(course,index=days)"
   ]
  },
  {
   "cell_type": "code",
   "execution_count": 90,
   "id": "ca8e164e-f284-4e9c-8104-ded35f2782d1",
   "metadata": {},
   "outputs": [],
   "source": [
    "days=pd.Series(['Mon','Tues','Wed'],index=['day1','day2','day3'])"
   ]
  },
  {
   "cell_type": "code",
   "execution_count": 91,
   "id": "7876ea23-501b-44fd-b378-99908865d27c",
   "metadata": {},
   "outputs": [
    {
     "data": {
      "text/plain": [
       "day1     Mon\n",
       "day2    Tues\n",
       "day3     Wed\n",
       "dtype: object"
      ]
     },
     "execution_count": 91,
     "metadata": {},
     "output_type": "execute_result"
    }
   ],
   "source": [
    "days"
   ]
  },
  {
   "cell_type": "code",
   "execution_count": 92,
   "id": "eb8c451f-85fe-4b51-8e96-959decde614a",
   "metadata": {},
   "outputs": [],
   "source": [
    "days={'Mon':'day1','Tues':'day2','Wed':'day3'}"
   ]
  },
  {
   "cell_type": "code",
   "execution_count": 93,
   "id": "fd7e5765-e1b3-49de-ab1f-a9a77f20e03b",
   "metadata": {},
   "outputs": [],
   "source": [
    "days_series=pd.Series(days)"
   ]
  },
  {
   "cell_type": "code",
   "execution_count": 94,
   "id": "58bdf0b3-d002-43d8-9f2d-293102660790",
   "metadata": {},
   "outputs": [
    {
     "data": {
      "text/plain": [
       "Mon     day1\n",
       "Tues    day2\n",
       "Wed     day3\n",
       "dtype: object"
      ]
     },
     "execution_count": 94,
     "metadata": {},
     "output_type": "execute_result"
    }
   ],
   "source": [
    "days_series"
   ]
  },
  {
   "cell_type": "code",
   "execution_count": 95,
   "id": "ef5b61f5-c0fe-4a95-8544-2b10d224f84b",
   "metadata": {},
   "outputs": [],
   "source": [
    "my_df=pd.DataFrame(np.random.randn(5,5),index='row1 row2 row3 row4 row5'. split(' '),columns='col1 col2 col3 col4 col5'. split(' '))"
   ]
  },
  {
   "cell_type": "code",
   "execution_count": 96,
   "id": "f166e481-dc25-44e5-a67e-47f626b1f756",
   "metadata": {},
   "outputs": [
    {
     "data": {
      "text/html": [
       "<div>\n",
       "<style scoped>\n",
       "    .dataframe tbody tr th:only-of-type {\n",
       "        vertical-align: middle;\n",
       "    }\n",
       "\n",
       "    .dataframe tbody tr th {\n",
       "        vertical-align: top;\n",
       "    }\n",
       "\n",
       "    .dataframe thead th {\n",
       "        text-align: right;\n",
       "    }\n",
       "</style>\n",
       "<table border=\"1\" class=\"dataframe\">\n",
       "  <thead>\n",
       "    <tr style=\"text-align: right;\">\n",
       "      <th></th>\n",
       "      <th>col1</th>\n",
       "      <th>col2</th>\n",
       "      <th>col3</th>\n",
       "      <th>col4</th>\n",
       "      <th>col5</th>\n",
       "    </tr>\n",
       "  </thead>\n",
       "  <tbody>\n",
       "    <tr>\n",
       "      <th>row1</th>\n",
       "      <td>-1.536709</td>\n",
       "      <td>2.507218</td>\n",
       "      <td>-1.511996</td>\n",
       "      <td>-0.857626</td>\n",
       "      <td>0.124419</td>\n",
       "    </tr>\n",
       "    <tr>\n",
       "      <th>row2</th>\n",
       "      <td>1.629139</td>\n",
       "      <td>1.727358</td>\n",
       "      <td>-1.568660</td>\n",
       "      <td>0.234946</td>\n",
       "      <td>-1.687841</td>\n",
       "    </tr>\n",
       "    <tr>\n",
       "      <th>row3</th>\n",
       "      <td>0.892498</td>\n",
       "      <td>1.018345</td>\n",
       "      <td>0.798899</td>\n",
       "      <td>1.428434</td>\n",
       "      <td>0.032317</td>\n",
       "    </tr>\n",
       "    <tr>\n",
       "      <th>row4</th>\n",
       "      <td>0.794927</td>\n",
       "      <td>-0.031402</td>\n",
       "      <td>-0.199319</td>\n",
       "      <td>1.077864</td>\n",
       "      <td>-0.399938</td>\n",
       "    </tr>\n",
       "    <tr>\n",
       "      <th>row5</th>\n",
       "      <td>0.801483</td>\n",
       "      <td>0.179403</td>\n",
       "      <td>-0.365205</td>\n",
       "      <td>-0.056737</td>\n",
       "      <td>-0.229846</td>\n",
       "    </tr>\n",
       "  </tbody>\n",
       "</table>\n",
       "</div>"
      ],
      "text/plain": [
       "          col1      col2      col3      col4      col5\n",
       "row1 -1.536709  2.507218 -1.511996 -0.857626  0.124419\n",
       "row2  1.629139  1.727358 -1.568660  0.234946 -1.687841\n",
       "row3  0.892498  1.018345  0.798899  1.428434  0.032317\n",
       "row4  0.794927 -0.031402 -0.199319  1.077864 -0.399938\n",
       "row5  0.801483  0.179403 -0.365205 -0.056737 -0.229846"
      ]
     },
     "execution_count": 96,
     "metadata": {},
     "output_type": "execute_result"
    }
   ],
   "source": [
    "my_df"
   ]
  },
  {
   "cell_type": "code",
   "execution_count": 97,
   "id": "390cdc1b-3b90-4d69-bc41-2cf60a8601d8",
   "metadata": {},
   "outputs": [
    {
     "data": {
      "text/plain": [
       "pandas.core.frame.DataFrame"
      ]
     },
     "execution_count": 97,
     "metadata": {},
     "output_type": "execute_result"
    }
   ],
   "source": [
    "type(my_df)"
   ]
  },
  {
   "cell_type": "code",
   "execution_count": 98,
   "id": "81e9b568-d23b-4fe9-b976-8c4283c8aebd",
   "metadata": {},
   "outputs": [
    {
     "data": {
      "text/plain": [
       "pandas.core.series.Series"
      ]
     },
     "execution_count": 98,
     "metadata": {},
     "output_type": "execute_result"
    }
   ],
   "source": [
    "type(my_df['col1'])"
   ]
  },
  {
   "cell_type": "code",
   "execution_count": 99,
   "id": "7ca0ae0e-c0ff-4f0b-9289-10b3255117b0",
   "metadata": {},
   "outputs": [],
   "source": [
    "my_df['col6']=my_df['col1']*2"
   ]
  },
  {
   "cell_type": "code",
   "execution_count": 100,
   "id": "4a050bef-9595-4326-9154-ad249cccc5de",
   "metadata": {},
   "outputs": [
    {
     "data": {
      "text/html": [
       "<div>\n",
       "<style scoped>\n",
       "    .dataframe tbody tr th:only-of-type {\n",
       "        vertical-align: middle;\n",
       "    }\n",
       "\n",
       "    .dataframe tbody tr th {\n",
       "        vertical-align: top;\n",
       "    }\n",
       "\n",
       "    .dataframe thead th {\n",
       "        text-align: right;\n",
       "    }\n",
       "</style>\n",
       "<table border=\"1\" class=\"dataframe\">\n",
       "  <thead>\n",
       "    <tr style=\"text-align: right;\">\n",
       "      <th></th>\n",
       "      <th>col1</th>\n",
       "      <th>col2</th>\n",
       "      <th>col3</th>\n",
       "      <th>col4</th>\n",
       "      <th>col5</th>\n",
       "      <th>col6</th>\n",
       "    </tr>\n",
       "  </thead>\n",
       "  <tbody>\n",
       "    <tr>\n",
       "      <th>row1</th>\n",
       "      <td>-1.536709</td>\n",
       "      <td>2.507218</td>\n",
       "      <td>-1.511996</td>\n",
       "      <td>-0.857626</td>\n",
       "      <td>0.124419</td>\n",
       "      <td>-3.073418</td>\n",
       "    </tr>\n",
       "    <tr>\n",
       "      <th>row2</th>\n",
       "      <td>1.629139</td>\n",
       "      <td>1.727358</td>\n",
       "      <td>-1.568660</td>\n",
       "      <td>0.234946</td>\n",
       "      <td>-1.687841</td>\n",
       "      <td>3.258278</td>\n",
       "    </tr>\n",
       "    <tr>\n",
       "      <th>row3</th>\n",
       "      <td>0.892498</td>\n",
       "      <td>1.018345</td>\n",
       "      <td>0.798899</td>\n",
       "      <td>1.428434</td>\n",
       "      <td>0.032317</td>\n",
       "      <td>1.784996</td>\n",
       "    </tr>\n",
       "    <tr>\n",
       "      <th>row4</th>\n",
       "      <td>0.794927</td>\n",
       "      <td>-0.031402</td>\n",
       "      <td>-0.199319</td>\n",
       "      <td>1.077864</td>\n",
       "      <td>-0.399938</td>\n",
       "      <td>1.589854</td>\n",
       "    </tr>\n",
       "    <tr>\n",
       "      <th>row5</th>\n",
       "      <td>0.801483</td>\n",
       "      <td>0.179403</td>\n",
       "      <td>-0.365205</td>\n",
       "      <td>-0.056737</td>\n",
       "      <td>-0.229846</td>\n",
       "      <td>1.602965</td>\n",
       "    </tr>\n",
       "  </tbody>\n",
       "</table>\n",
       "</div>"
      ],
      "text/plain": [
       "          col1      col2      col3      col4      col5      col6\n",
       "row1 -1.536709  2.507218 -1.511996 -0.857626  0.124419 -3.073418\n",
       "row2  1.629139  1.727358 -1.568660  0.234946 -1.687841  3.258278\n",
       "row3  0.892498  1.018345  0.798899  1.428434  0.032317  1.784996\n",
       "row4  0.794927 -0.031402 -0.199319  1.077864 -0.399938  1.589854\n",
       "row5  0.801483  0.179403 -0.365205 -0.056737 -0.229846  1.602965"
      ]
     },
     "execution_count": 100,
     "metadata": {},
     "output_type": "execute_result"
    }
   ],
   "source": [
    "my_df"
   ]
  },
  {
   "cell_type": "code",
   "execution_count": 101,
   "id": "bd278d8a-f7c0-40fb-8ccd-1c51720bd6b0",
   "metadata": {},
   "outputs": [
    {
     "data": {
      "text/html": [
       "<div>\n",
       "<style scoped>\n",
       "    .dataframe tbody tr th:only-of-type {\n",
       "        vertical-align: middle;\n",
       "    }\n",
       "\n",
       "    .dataframe tbody tr th {\n",
       "        vertical-align: top;\n",
       "    }\n",
       "\n",
       "    .dataframe thead th {\n",
       "        text-align: right;\n",
       "    }\n",
       "</style>\n",
       "<table border=\"1\" class=\"dataframe\">\n",
       "  <thead>\n",
       "    <tr style=\"text-align: right;\">\n",
       "      <th></th>\n",
       "      <th>col1</th>\n",
       "      <th>col2</th>\n",
       "      <th>col3</th>\n",
       "      <th>col5</th>\n",
       "      <th>col6</th>\n",
       "    </tr>\n",
       "  </thead>\n",
       "  <tbody>\n",
       "    <tr>\n",
       "      <th>row1</th>\n",
       "      <td>-1.536709</td>\n",
       "      <td>2.507218</td>\n",
       "      <td>-1.511996</td>\n",
       "      <td>0.124419</td>\n",
       "      <td>-3.073418</td>\n",
       "    </tr>\n",
       "    <tr>\n",
       "      <th>row2</th>\n",
       "      <td>1.629139</td>\n",
       "      <td>1.727358</td>\n",
       "      <td>-1.568660</td>\n",
       "      <td>-1.687841</td>\n",
       "      <td>3.258278</td>\n",
       "    </tr>\n",
       "    <tr>\n",
       "      <th>row3</th>\n",
       "      <td>0.892498</td>\n",
       "      <td>1.018345</td>\n",
       "      <td>0.798899</td>\n",
       "      <td>0.032317</td>\n",
       "      <td>1.784996</td>\n",
       "    </tr>\n",
       "    <tr>\n",
       "      <th>row4</th>\n",
       "      <td>0.794927</td>\n",
       "      <td>-0.031402</td>\n",
       "      <td>-0.199319</td>\n",
       "      <td>-0.399938</td>\n",
       "      <td>1.589854</td>\n",
       "    </tr>\n",
       "    <tr>\n",
       "      <th>row5</th>\n",
       "      <td>0.801483</td>\n",
       "      <td>0.179403</td>\n",
       "      <td>-0.365205</td>\n",
       "      <td>-0.229846</td>\n",
       "      <td>1.602965</td>\n",
       "    </tr>\n",
       "  </tbody>\n",
       "</table>\n",
       "</div>"
      ],
      "text/plain": [
       "          col1      col2      col3      col5      col6\n",
       "row1 -1.536709  2.507218 -1.511996  0.124419 -3.073418\n",
       "row2  1.629139  1.727358 -1.568660 -1.687841  3.258278\n",
       "row3  0.892498  1.018345  0.798899  0.032317  1.784996\n",
       "row4  0.794927 -0.031402 -0.199319 -0.399938  1.589854\n",
       "row5  0.801483  0.179403 -0.365205 -0.229846  1.602965"
      ]
     },
     "execution_count": 101,
     "metadata": {},
     "output_type": "execute_result"
    }
   ],
   "source": [
    "my_df.drop('col4',axis=1)"
   ]
  },
  {
   "cell_type": "code",
   "execution_count": 102,
   "id": "4bd441f5-4326-47e9-a2f0-abd367859f65",
   "metadata": {},
   "outputs": [
    {
     "data": {
      "text/html": [
       "<div>\n",
       "<style scoped>\n",
       "    .dataframe tbody tr th:only-of-type {\n",
       "        vertical-align: middle;\n",
       "    }\n",
       "\n",
       "    .dataframe tbody tr th {\n",
       "        vertical-align: top;\n",
       "    }\n",
       "\n",
       "    .dataframe thead th {\n",
       "        text-align: right;\n",
       "    }\n",
       "</style>\n",
       "<table border=\"1\" class=\"dataframe\">\n",
       "  <thead>\n",
       "    <tr style=\"text-align: right;\">\n",
       "      <th></th>\n",
       "      <th>col1</th>\n",
       "      <th>col2</th>\n",
       "      <th>col3</th>\n",
       "      <th>col4</th>\n",
       "      <th>col5</th>\n",
       "      <th>col6</th>\n",
       "    </tr>\n",
       "  </thead>\n",
       "  <tbody>\n",
       "    <tr>\n",
       "      <th>row1</th>\n",
       "      <td>-1.536709</td>\n",
       "      <td>2.507218</td>\n",
       "      <td>-1.511996</td>\n",
       "      <td>-0.857626</td>\n",
       "      <td>0.124419</td>\n",
       "      <td>-3.073418</td>\n",
       "    </tr>\n",
       "    <tr>\n",
       "      <th>row2</th>\n",
       "      <td>1.629139</td>\n",
       "      <td>1.727358</td>\n",
       "      <td>-1.568660</td>\n",
       "      <td>0.234946</td>\n",
       "      <td>-1.687841</td>\n",
       "      <td>3.258278</td>\n",
       "    </tr>\n",
       "    <tr>\n",
       "      <th>row3</th>\n",
       "      <td>0.892498</td>\n",
       "      <td>1.018345</td>\n",
       "      <td>0.798899</td>\n",
       "      <td>1.428434</td>\n",
       "      <td>0.032317</td>\n",
       "      <td>1.784996</td>\n",
       "    </tr>\n",
       "    <tr>\n",
       "      <th>row4</th>\n",
       "      <td>0.794927</td>\n",
       "      <td>-0.031402</td>\n",
       "      <td>-0.199319</td>\n",
       "      <td>1.077864</td>\n",
       "      <td>-0.399938</td>\n",
       "      <td>1.589854</td>\n",
       "    </tr>\n",
       "    <tr>\n",
       "      <th>row5</th>\n",
       "      <td>0.801483</td>\n",
       "      <td>0.179403</td>\n",
       "      <td>-0.365205</td>\n",
       "      <td>-0.056737</td>\n",
       "      <td>-0.229846</td>\n",
       "      <td>1.602965</td>\n",
       "    </tr>\n",
       "  </tbody>\n",
       "</table>\n",
       "</div>"
      ],
      "text/plain": [
       "          col1      col2      col3      col4      col5      col6\n",
       "row1 -1.536709  2.507218 -1.511996 -0.857626  0.124419 -3.073418\n",
       "row2  1.629139  1.727358 -1.568660  0.234946 -1.687841  3.258278\n",
       "row3  0.892498  1.018345  0.798899  1.428434  0.032317  1.784996\n",
       "row4  0.794927 -0.031402 -0.199319  1.077864 -0.399938  1.589854\n",
       "row5  0.801483  0.179403 -0.365205 -0.056737 -0.229846  1.602965"
      ]
     },
     "execution_count": 102,
     "metadata": {},
     "output_type": "execute_result"
    }
   ],
   "source": [
    "my_df"
   ]
  },
  {
   "cell_type": "code",
   "execution_count": 103,
   "id": "effdff83-9929-4090-a0f5-8410d40baae5",
   "metadata": {},
   "outputs": [],
   "source": [
    "my_df.drop('col4',axis=1,inplace=True)"
   ]
  },
  {
   "cell_type": "code",
   "execution_count": 104,
   "id": "19dbedea-6b69-4a99-a145-50ac41395178",
   "metadata": {},
   "outputs": [
    {
     "data": {
      "text/html": [
       "<div>\n",
       "<style scoped>\n",
       "    .dataframe tbody tr th:only-of-type {\n",
       "        vertical-align: middle;\n",
       "    }\n",
       "\n",
       "    .dataframe tbody tr th {\n",
       "        vertical-align: top;\n",
       "    }\n",
       "\n",
       "    .dataframe thead th {\n",
       "        text-align: right;\n",
       "    }\n",
       "</style>\n",
       "<table border=\"1\" class=\"dataframe\">\n",
       "  <thead>\n",
       "    <tr style=\"text-align: right;\">\n",
       "      <th></th>\n",
       "      <th>col1</th>\n",
       "      <th>col2</th>\n",
       "      <th>col3</th>\n",
       "      <th>col5</th>\n",
       "      <th>col6</th>\n",
       "    </tr>\n",
       "  </thead>\n",
       "  <tbody>\n",
       "    <tr>\n",
       "      <th>row1</th>\n",
       "      <td>-1.536709</td>\n",
       "      <td>2.507218</td>\n",
       "      <td>-1.511996</td>\n",
       "      <td>0.124419</td>\n",
       "      <td>-3.073418</td>\n",
       "    </tr>\n",
       "    <tr>\n",
       "      <th>row2</th>\n",
       "      <td>1.629139</td>\n",
       "      <td>1.727358</td>\n",
       "      <td>-1.568660</td>\n",
       "      <td>-1.687841</td>\n",
       "      <td>3.258278</td>\n",
       "    </tr>\n",
       "    <tr>\n",
       "      <th>row3</th>\n",
       "      <td>0.892498</td>\n",
       "      <td>1.018345</td>\n",
       "      <td>0.798899</td>\n",
       "      <td>0.032317</td>\n",
       "      <td>1.784996</td>\n",
       "    </tr>\n",
       "    <tr>\n",
       "      <th>row4</th>\n",
       "      <td>0.794927</td>\n",
       "      <td>-0.031402</td>\n",
       "      <td>-0.199319</td>\n",
       "      <td>-0.399938</td>\n",
       "      <td>1.589854</td>\n",
       "    </tr>\n",
       "    <tr>\n",
       "      <th>row5</th>\n",
       "      <td>0.801483</td>\n",
       "      <td>0.179403</td>\n",
       "      <td>-0.365205</td>\n",
       "      <td>-0.229846</td>\n",
       "      <td>1.602965</td>\n",
       "    </tr>\n",
       "  </tbody>\n",
       "</table>\n",
       "</div>"
      ],
      "text/plain": [
       "          col1      col2      col3      col5      col6\n",
       "row1 -1.536709  2.507218 -1.511996  0.124419 -3.073418\n",
       "row2  1.629139  1.727358 -1.568660 -1.687841  3.258278\n",
       "row3  0.892498  1.018345  0.798899  0.032317  1.784996\n",
       "row4  0.794927 -0.031402 -0.199319 -0.399938  1.589854\n",
       "row5  0.801483  0.179403 -0.365205 -0.229846  1.602965"
      ]
     },
     "execution_count": 104,
     "metadata": {},
     "output_type": "execute_result"
    }
   ],
   "source": [
    "my_df"
   ]
  },
  {
   "cell_type": "code",
   "execution_count": 105,
   "id": "0247016a-eccb-494a-8c69-09ed79f200ed",
   "metadata": {},
   "outputs": [],
   "source": [
    "my_df.drop('row4',axis=0,inplace=True)"
   ]
  },
  {
   "cell_type": "code",
   "execution_count": 106,
   "id": "1be51651-a835-4f8a-add0-8878aa689c66",
   "metadata": {},
   "outputs": [
    {
     "data": {
      "text/html": [
       "<div>\n",
       "<style scoped>\n",
       "    .dataframe tbody tr th:only-of-type {\n",
       "        vertical-align: middle;\n",
       "    }\n",
       "\n",
       "    .dataframe tbody tr th {\n",
       "        vertical-align: top;\n",
       "    }\n",
       "\n",
       "    .dataframe thead th {\n",
       "        text-align: right;\n",
       "    }\n",
       "</style>\n",
       "<table border=\"1\" class=\"dataframe\">\n",
       "  <thead>\n",
       "    <tr style=\"text-align: right;\">\n",
       "      <th></th>\n",
       "      <th>col1</th>\n",
       "      <th>col2</th>\n",
       "      <th>col3</th>\n",
       "      <th>col5</th>\n",
       "      <th>col6</th>\n",
       "    </tr>\n",
       "  </thead>\n",
       "  <tbody>\n",
       "    <tr>\n",
       "      <th>row1</th>\n",
       "      <td>-1.536709</td>\n",
       "      <td>2.507218</td>\n",
       "      <td>-1.511996</td>\n",
       "      <td>0.124419</td>\n",
       "      <td>-3.073418</td>\n",
       "    </tr>\n",
       "    <tr>\n",
       "      <th>row2</th>\n",
       "      <td>1.629139</td>\n",
       "      <td>1.727358</td>\n",
       "      <td>-1.568660</td>\n",
       "      <td>-1.687841</td>\n",
       "      <td>3.258278</td>\n",
       "    </tr>\n",
       "    <tr>\n",
       "      <th>row3</th>\n",
       "      <td>0.892498</td>\n",
       "      <td>1.018345</td>\n",
       "      <td>0.798899</td>\n",
       "      <td>0.032317</td>\n",
       "      <td>1.784996</td>\n",
       "    </tr>\n",
       "    <tr>\n",
       "      <th>row5</th>\n",
       "      <td>0.801483</td>\n",
       "      <td>0.179403</td>\n",
       "      <td>-0.365205</td>\n",
       "      <td>-0.229846</td>\n",
       "      <td>1.602965</td>\n",
       "    </tr>\n",
       "  </tbody>\n",
       "</table>\n",
       "</div>"
      ],
      "text/plain": [
       "          col1      col2      col3      col5      col6\n",
       "row1 -1.536709  2.507218 -1.511996  0.124419 -3.073418\n",
       "row2  1.629139  1.727358 -1.568660 -1.687841  3.258278\n",
       "row3  0.892498  1.018345  0.798899  0.032317  1.784996\n",
       "row5  0.801483  0.179403 -0.365205 -0.229846  1.602965"
      ]
     },
     "execution_count": 106,
     "metadata": {},
     "output_type": "execute_result"
    }
   ],
   "source": [
    "my_df"
   ]
  },
  {
   "cell_type": "code",
   "execution_count": 107,
   "id": "acb13fd0-49cd-44f2-a0df-34e64f9b61fb",
   "metadata": {},
   "outputs": [
    {
     "data": {
      "text/plain": [
       "col1    1.629139\n",
       "col2    1.727358\n",
       "col3   -1.568660\n",
       "col5   -1.687841\n",
       "col6    3.258278\n",
       "Name: row2, dtype: float64"
      ]
     },
     "execution_count": 107,
     "metadata": {},
     "output_type": "execute_result"
    }
   ],
   "source": [
    "my_df.iloc[1]"
   ]
  },
  {
   "cell_type": "code",
   "execution_count": 108,
   "id": "51bd7baa-f1cf-4883-ba20-5e6126cbb1b0",
   "metadata": {},
   "outputs": [],
   "source": [
    "data=pd.read_csv('C:\\DSML\\Datasets\\Iris.csv')"
   ]
  },
  {
   "cell_type": "code",
   "execution_count": 109,
   "id": "27eb72e7-92e7-41a2-a8ea-c1537aefd119",
   "metadata": {},
   "outputs": [
    {
     "data": {
      "text/html": [
       "<div>\n",
       "<style scoped>\n",
       "    .dataframe tbody tr th:only-of-type {\n",
       "        vertical-align: middle;\n",
       "    }\n",
       "\n",
       "    .dataframe tbody tr th {\n",
       "        vertical-align: top;\n",
       "    }\n",
       "\n",
       "    .dataframe thead th {\n",
       "        text-align: right;\n",
       "    }\n",
       "</style>\n",
       "<table border=\"1\" class=\"dataframe\">\n",
       "  <thead>\n",
       "    <tr style=\"text-align: right;\">\n",
       "      <th></th>\n",
       "      <th>Id</th>\n",
       "      <th>SepalLengthCm</th>\n",
       "      <th>SepalWidthCm</th>\n",
       "      <th>PetalLengthCm</th>\n",
       "      <th>PetalWidthCm</th>\n",
       "      <th>Species</th>\n",
       "    </tr>\n",
       "  </thead>\n",
       "  <tbody>\n",
       "    <tr>\n",
       "      <th>0</th>\n",
       "      <td>1</td>\n",
       "      <td>5.1</td>\n",
       "      <td>3.5</td>\n",
       "      <td>1.4</td>\n",
       "      <td>0.2</td>\n",
       "      <td>Iris-setosa</td>\n",
       "    </tr>\n",
       "    <tr>\n",
       "      <th>1</th>\n",
       "      <td>2</td>\n",
       "      <td>4.9</td>\n",
       "      <td>3.0</td>\n",
       "      <td>1.4</td>\n",
       "      <td>0.2</td>\n",
       "      <td>Iris-setosa</td>\n",
       "    </tr>\n",
       "    <tr>\n",
       "      <th>2</th>\n",
       "      <td>3</td>\n",
       "      <td>4.7</td>\n",
       "      <td>3.2</td>\n",
       "      <td>1.3</td>\n",
       "      <td>0.2</td>\n",
       "      <td>Iris-setosa</td>\n",
       "    </tr>\n",
       "    <tr>\n",
       "      <th>3</th>\n",
       "      <td>4</td>\n",
       "      <td>4.6</td>\n",
       "      <td>3.1</td>\n",
       "      <td>1.5</td>\n",
       "      <td>0.2</td>\n",
       "      <td>Iris-setosa</td>\n",
       "    </tr>\n",
       "    <tr>\n",
       "      <th>4</th>\n",
       "      <td>5</td>\n",
       "      <td>5.0</td>\n",
       "      <td>3.6</td>\n",
       "      <td>1.4</td>\n",
       "      <td>0.2</td>\n",
       "      <td>Iris-setosa</td>\n",
       "    </tr>\n",
       "    <tr>\n",
       "      <th>...</th>\n",
       "      <td>...</td>\n",
       "      <td>...</td>\n",
       "      <td>...</td>\n",
       "      <td>...</td>\n",
       "      <td>...</td>\n",
       "      <td>...</td>\n",
       "    </tr>\n",
       "    <tr>\n",
       "      <th>145</th>\n",
       "      <td>146</td>\n",
       "      <td>6.7</td>\n",
       "      <td>3.0</td>\n",
       "      <td>5.2</td>\n",
       "      <td>2.3</td>\n",
       "      <td>Iris-virginica</td>\n",
       "    </tr>\n",
       "    <tr>\n",
       "      <th>146</th>\n",
       "      <td>147</td>\n",
       "      <td>6.3</td>\n",
       "      <td>2.5</td>\n",
       "      <td>5.0</td>\n",
       "      <td>1.9</td>\n",
       "      <td>Iris-virginica</td>\n",
       "    </tr>\n",
       "    <tr>\n",
       "      <th>147</th>\n",
       "      <td>148</td>\n",
       "      <td>6.5</td>\n",
       "      <td>3.0</td>\n",
       "      <td>5.2</td>\n",
       "      <td>2.0</td>\n",
       "      <td>Iris-virginica</td>\n",
       "    </tr>\n",
       "    <tr>\n",
       "      <th>148</th>\n",
       "      <td>149</td>\n",
       "      <td>6.2</td>\n",
       "      <td>3.4</td>\n",
       "      <td>5.4</td>\n",
       "      <td>2.3</td>\n",
       "      <td>Iris-virginica</td>\n",
       "    </tr>\n",
       "    <tr>\n",
       "      <th>149</th>\n",
       "      <td>150</td>\n",
       "      <td>5.9</td>\n",
       "      <td>3.0</td>\n",
       "      <td>5.1</td>\n",
       "      <td>1.8</td>\n",
       "      <td>Iris-virginica</td>\n",
       "    </tr>\n",
       "  </tbody>\n",
       "</table>\n",
       "<p>150 rows × 6 columns</p>\n",
       "</div>"
      ],
      "text/plain": [
       "      Id  SepalLengthCm  SepalWidthCm  PetalLengthCm  PetalWidthCm  \\\n",
       "0      1            5.1           3.5            1.4           0.2   \n",
       "1      2            4.9           3.0            1.4           0.2   \n",
       "2      3            4.7           3.2            1.3           0.2   \n",
       "3      4            4.6           3.1            1.5           0.2   \n",
       "4      5            5.0           3.6            1.4           0.2   \n",
       "..   ...            ...           ...            ...           ...   \n",
       "145  146            6.7           3.0            5.2           2.3   \n",
       "146  147            6.3           2.5            5.0           1.9   \n",
       "147  148            6.5           3.0            5.2           2.0   \n",
       "148  149            6.2           3.4            5.4           2.3   \n",
       "149  150            5.9           3.0            5.1           1.8   \n",
       "\n",
       "            Species  \n",
       "0       Iris-setosa  \n",
       "1       Iris-setosa  \n",
       "2       Iris-setosa  \n",
       "3       Iris-setosa  \n",
       "4       Iris-setosa  \n",
       "..              ...  \n",
       "145  Iris-virginica  \n",
       "146  Iris-virginica  \n",
       "147  Iris-virginica  \n",
       "148  Iris-virginica  \n",
       "149  Iris-virginica  \n",
       "\n",
       "[150 rows x 6 columns]"
      ]
     },
     "execution_count": 109,
     "metadata": {},
     "output_type": "execute_result"
    }
   ],
   "source": [
    "data"
   ]
  },
  {
   "cell_type": "code",
   "execution_count": 110,
   "id": "cf3e8937-3f86-4eb3-a50f-c03a6b44e923",
   "metadata": {},
   "outputs": [
    {
     "data": {
      "text/html": [
       "<div>\n",
       "<style scoped>\n",
       "    .dataframe tbody tr th:only-of-type {\n",
       "        vertical-align: middle;\n",
       "    }\n",
       "\n",
       "    .dataframe tbody tr th {\n",
       "        vertical-align: top;\n",
       "    }\n",
       "\n",
       "    .dataframe thead th {\n",
       "        text-align: right;\n",
       "    }\n",
       "</style>\n",
       "<table border=\"1\" class=\"dataframe\">\n",
       "  <thead>\n",
       "    <tr style=\"text-align: right;\">\n",
       "      <th></th>\n",
       "      <th>Id</th>\n",
       "      <th>SepalLengthCm</th>\n",
       "      <th>SepalWidthCm</th>\n",
       "      <th>PetalLengthCm</th>\n",
       "      <th>PetalWidthCm</th>\n",
       "      <th>Species</th>\n",
       "    </tr>\n",
       "  </thead>\n",
       "  <tbody>\n",
       "    <tr>\n",
       "      <th>0</th>\n",
       "      <td>1</td>\n",
       "      <td>5.1</td>\n",
       "      <td>3.5</td>\n",
       "      <td>1.4</td>\n",
       "      <td>0.2</td>\n",
       "      <td>Iris-setosa</td>\n",
       "    </tr>\n",
       "    <tr>\n",
       "      <th>1</th>\n",
       "      <td>2</td>\n",
       "      <td>4.9</td>\n",
       "      <td>3.0</td>\n",
       "      <td>1.4</td>\n",
       "      <td>0.2</td>\n",
       "      <td>Iris-setosa</td>\n",
       "    </tr>\n",
       "    <tr>\n",
       "      <th>2</th>\n",
       "      <td>3</td>\n",
       "      <td>4.7</td>\n",
       "      <td>3.2</td>\n",
       "      <td>1.3</td>\n",
       "      <td>0.2</td>\n",
       "      <td>Iris-setosa</td>\n",
       "    </tr>\n",
       "    <tr>\n",
       "      <th>3</th>\n",
       "      <td>4</td>\n",
       "      <td>4.6</td>\n",
       "      <td>3.1</td>\n",
       "      <td>1.5</td>\n",
       "      <td>0.2</td>\n",
       "      <td>Iris-setosa</td>\n",
       "    </tr>\n",
       "    <tr>\n",
       "      <th>4</th>\n",
       "      <td>5</td>\n",
       "      <td>5.0</td>\n",
       "      <td>3.6</td>\n",
       "      <td>1.4</td>\n",
       "      <td>0.2</td>\n",
       "      <td>Iris-setosa</td>\n",
       "    </tr>\n",
       "  </tbody>\n",
       "</table>\n",
       "</div>"
      ],
      "text/plain": [
       "   Id  SepalLengthCm  SepalWidthCm  PetalLengthCm  PetalWidthCm      Species\n",
       "0   1            5.1           3.5            1.4           0.2  Iris-setosa\n",
       "1   2            4.9           3.0            1.4           0.2  Iris-setosa\n",
       "2   3            4.7           3.2            1.3           0.2  Iris-setosa\n",
       "3   4            4.6           3.1            1.5           0.2  Iris-setosa\n",
       "4   5            5.0           3.6            1.4           0.2  Iris-setosa"
      ]
     },
     "execution_count": 110,
     "metadata": {},
     "output_type": "execute_result"
    }
   ],
   "source": [
    "data.head()"
   ]
  },
  {
   "cell_type": "code",
   "execution_count": 111,
   "id": "bae88604-6f2d-4c24-987b-5a4590b0ae19",
   "metadata": {},
   "outputs": [
    {
     "data": {
      "text/html": [
       "<div>\n",
       "<style scoped>\n",
       "    .dataframe tbody tr th:only-of-type {\n",
       "        vertical-align: middle;\n",
       "    }\n",
       "\n",
       "    .dataframe tbody tr th {\n",
       "        vertical-align: top;\n",
       "    }\n",
       "\n",
       "    .dataframe thead th {\n",
       "        text-align: right;\n",
       "    }\n",
       "</style>\n",
       "<table border=\"1\" class=\"dataframe\">\n",
       "  <thead>\n",
       "    <tr style=\"text-align: right;\">\n",
       "      <th></th>\n",
       "      <th>Id</th>\n",
       "      <th>SepalLengthCm</th>\n",
       "      <th>SepalWidthCm</th>\n",
       "      <th>PetalLengthCm</th>\n",
       "      <th>PetalWidthCm</th>\n",
       "      <th>Species</th>\n",
       "    </tr>\n",
       "  </thead>\n",
       "  <tbody>\n",
       "    <tr>\n",
       "      <th>0</th>\n",
       "      <td>1</td>\n",
       "      <td>5.1</td>\n",
       "      <td>3.5</td>\n",
       "      <td>1.4</td>\n",
       "      <td>0.2</td>\n",
       "      <td>Iris-setosa</td>\n",
       "    </tr>\n",
       "    <tr>\n",
       "      <th>1</th>\n",
       "      <td>2</td>\n",
       "      <td>4.9</td>\n",
       "      <td>3.0</td>\n",
       "      <td>1.4</td>\n",
       "      <td>0.2</td>\n",
       "      <td>Iris-setosa</td>\n",
       "    </tr>\n",
       "    <tr>\n",
       "      <th>2</th>\n",
       "      <td>3</td>\n",
       "      <td>4.7</td>\n",
       "      <td>3.2</td>\n",
       "      <td>1.3</td>\n",
       "      <td>0.2</td>\n",
       "      <td>Iris-setosa</td>\n",
       "    </tr>\n",
       "    <tr>\n",
       "      <th>3</th>\n",
       "      <td>4</td>\n",
       "      <td>4.6</td>\n",
       "      <td>3.1</td>\n",
       "      <td>1.5</td>\n",
       "      <td>0.2</td>\n",
       "      <td>Iris-setosa</td>\n",
       "    </tr>\n",
       "    <tr>\n",
       "      <th>4</th>\n",
       "      <td>5</td>\n",
       "      <td>5.0</td>\n",
       "      <td>3.6</td>\n",
       "      <td>1.4</td>\n",
       "      <td>0.2</td>\n",
       "      <td>Iris-setosa</td>\n",
       "    </tr>\n",
       "    <tr>\n",
       "      <th>5</th>\n",
       "      <td>6</td>\n",
       "      <td>5.4</td>\n",
       "      <td>3.9</td>\n",
       "      <td>1.7</td>\n",
       "      <td>0.4</td>\n",
       "      <td>Iris-setosa</td>\n",
       "    </tr>\n",
       "    <tr>\n",
       "      <th>6</th>\n",
       "      <td>7</td>\n",
       "      <td>4.6</td>\n",
       "      <td>3.4</td>\n",
       "      <td>1.4</td>\n",
       "      <td>0.3</td>\n",
       "      <td>Iris-setosa</td>\n",
       "    </tr>\n",
       "    <tr>\n",
       "      <th>7</th>\n",
       "      <td>8</td>\n",
       "      <td>5.0</td>\n",
       "      <td>3.4</td>\n",
       "      <td>1.5</td>\n",
       "      <td>0.2</td>\n",
       "      <td>Iris-setosa</td>\n",
       "    </tr>\n",
       "    <tr>\n",
       "      <th>8</th>\n",
       "      <td>9</td>\n",
       "      <td>4.4</td>\n",
       "      <td>2.9</td>\n",
       "      <td>1.4</td>\n",
       "      <td>0.2</td>\n",
       "      <td>Iris-setosa</td>\n",
       "    </tr>\n",
       "    <tr>\n",
       "      <th>9</th>\n",
       "      <td>10</td>\n",
       "      <td>4.9</td>\n",
       "      <td>3.1</td>\n",
       "      <td>1.5</td>\n",
       "      <td>0.1</td>\n",
       "      <td>Iris-setosa</td>\n",
       "    </tr>\n",
       "  </tbody>\n",
       "</table>\n",
       "</div>"
      ],
      "text/plain": [
       "   Id  SepalLengthCm  SepalWidthCm  PetalLengthCm  PetalWidthCm      Species\n",
       "0   1            5.1           3.5            1.4           0.2  Iris-setosa\n",
       "1   2            4.9           3.0            1.4           0.2  Iris-setosa\n",
       "2   3            4.7           3.2            1.3           0.2  Iris-setosa\n",
       "3   4            4.6           3.1            1.5           0.2  Iris-setosa\n",
       "4   5            5.0           3.6            1.4           0.2  Iris-setosa\n",
       "5   6            5.4           3.9            1.7           0.4  Iris-setosa\n",
       "6   7            4.6           3.4            1.4           0.3  Iris-setosa\n",
       "7   8            5.0           3.4            1.5           0.2  Iris-setosa\n",
       "8   9            4.4           2.9            1.4           0.2  Iris-setosa\n",
       "9  10            4.9           3.1            1.5           0.1  Iris-setosa"
      ]
     },
     "execution_count": 111,
     "metadata": {},
     "output_type": "execute_result"
    }
   ],
   "source": [
    "data.head(10)"
   ]
  },
  {
   "cell_type": "code",
   "execution_count": 112,
   "id": "e32bfcfc-0ecb-4188-a746-82a828bbcbea",
   "metadata": {},
   "outputs": [
    {
     "data": {
      "text/html": [
       "<div>\n",
       "<style scoped>\n",
       "    .dataframe tbody tr th:only-of-type {\n",
       "        vertical-align: middle;\n",
       "    }\n",
       "\n",
       "    .dataframe tbody tr th {\n",
       "        vertical-align: top;\n",
       "    }\n",
       "\n",
       "    .dataframe thead th {\n",
       "        text-align: right;\n",
       "    }\n",
       "</style>\n",
       "<table border=\"1\" class=\"dataframe\">\n",
       "  <thead>\n",
       "    <tr style=\"text-align: right;\">\n",
       "      <th></th>\n",
       "      <th>Id</th>\n",
       "      <th>SepalLengthCm</th>\n",
       "      <th>SepalWidthCm</th>\n",
       "      <th>PetalLengthCm</th>\n",
       "      <th>PetalWidthCm</th>\n",
       "      <th>Species</th>\n",
       "    </tr>\n",
       "  </thead>\n",
       "  <tbody>\n",
       "    <tr>\n",
       "      <th>145</th>\n",
       "      <td>146</td>\n",
       "      <td>6.7</td>\n",
       "      <td>3.0</td>\n",
       "      <td>5.2</td>\n",
       "      <td>2.3</td>\n",
       "      <td>Iris-virginica</td>\n",
       "    </tr>\n",
       "    <tr>\n",
       "      <th>146</th>\n",
       "      <td>147</td>\n",
       "      <td>6.3</td>\n",
       "      <td>2.5</td>\n",
       "      <td>5.0</td>\n",
       "      <td>1.9</td>\n",
       "      <td>Iris-virginica</td>\n",
       "    </tr>\n",
       "    <tr>\n",
       "      <th>147</th>\n",
       "      <td>148</td>\n",
       "      <td>6.5</td>\n",
       "      <td>3.0</td>\n",
       "      <td>5.2</td>\n",
       "      <td>2.0</td>\n",
       "      <td>Iris-virginica</td>\n",
       "    </tr>\n",
       "    <tr>\n",
       "      <th>148</th>\n",
       "      <td>149</td>\n",
       "      <td>6.2</td>\n",
       "      <td>3.4</td>\n",
       "      <td>5.4</td>\n",
       "      <td>2.3</td>\n",
       "      <td>Iris-virginica</td>\n",
       "    </tr>\n",
       "    <tr>\n",
       "      <th>149</th>\n",
       "      <td>150</td>\n",
       "      <td>5.9</td>\n",
       "      <td>3.0</td>\n",
       "      <td>5.1</td>\n",
       "      <td>1.8</td>\n",
       "      <td>Iris-virginica</td>\n",
       "    </tr>\n",
       "  </tbody>\n",
       "</table>\n",
       "</div>"
      ],
      "text/plain": [
       "      Id  SepalLengthCm  SepalWidthCm  PetalLengthCm  PetalWidthCm  \\\n",
       "145  146            6.7           3.0            5.2           2.3   \n",
       "146  147            6.3           2.5            5.0           1.9   \n",
       "147  148            6.5           3.0            5.2           2.0   \n",
       "148  149            6.2           3.4            5.4           2.3   \n",
       "149  150            5.9           3.0            5.1           1.8   \n",
       "\n",
       "            Species  \n",
       "145  Iris-virginica  \n",
       "146  Iris-virginica  \n",
       "147  Iris-virginica  \n",
       "148  Iris-virginica  \n",
       "149  Iris-virginica  "
      ]
     },
     "execution_count": 112,
     "metadata": {},
     "output_type": "execute_result"
    }
   ],
   "source": [
    "data.tail()"
   ]
  },
  {
   "cell_type": "code",
   "execution_count": 113,
   "id": "f936d6fd-33c6-4428-a981-795522f0395e",
   "metadata": {},
   "outputs": [],
   "source": [
    "import pandas as pd"
   ]
  },
  {
   "cell_type": "code",
   "execution_count": 114,
   "id": "1f802ef2-013e-4735-8736-73db9d4d5788",
   "metadata": {},
   "outputs": [],
   "source": [
    "df=pd.read_csv(\"c:\\DSML\\Datasets\\Iris.csv\")"
   ]
  },
  {
   "cell_type": "code",
   "execution_count": 115,
   "id": "b7fa8021-f461-427b-9b29-63c001a07c3e",
   "metadata": {},
   "outputs": [
    {
     "data": {
      "text/html": [
       "<div>\n",
       "<style scoped>\n",
       "    .dataframe tbody tr th:only-of-type {\n",
       "        vertical-align: middle;\n",
       "    }\n",
       "\n",
       "    .dataframe tbody tr th {\n",
       "        vertical-align: top;\n",
       "    }\n",
       "\n",
       "    .dataframe thead th {\n",
       "        text-align: right;\n",
       "    }\n",
       "</style>\n",
       "<table border=\"1\" class=\"dataframe\">\n",
       "  <thead>\n",
       "    <tr style=\"text-align: right;\">\n",
       "      <th></th>\n",
       "      <th>Id</th>\n",
       "      <th>SepalLengthCm</th>\n",
       "      <th>SepalWidthCm</th>\n",
       "      <th>PetalLengthCm</th>\n",
       "      <th>PetalWidthCm</th>\n",
       "      <th>Species</th>\n",
       "    </tr>\n",
       "  </thead>\n",
       "  <tbody>\n",
       "    <tr>\n",
       "      <th>0</th>\n",
       "      <td>1</td>\n",
       "      <td>5.1</td>\n",
       "      <td>3.5</td>\n",
       "      <td>1.4</td>\n",
       "      <td>0.2</td>\n",
       "      <td>Iris-setosa</td>\n",
       "    </tr>\n",
       "    <tr>\n",
       "      <th>1</th>\n",
       "      <td>2</td>\n",
       "      <td>4.9</td>\n",
       "      <td>3.0</td>\n",
       "      <td>1.4</td>\n",
       "      <td>0.2</td>\n",
       "      <td>Iris-setosa</td>\n",
       "    </tr>\n",
       "    <tr>\n",
       "      <th>2</th>\n",
       "      <td>3</td>\n",
       "      <td>4.7</td>\n",
       "      <td>3.2</td>\n",
       "      <td>1.3</td>\n",
       "      <td>0.2</td>\n",
       "      <td>Iris-setosa</td>\n",
       "    </tr>\n",
       "    <tr>\n",
       "      <th>3</th>\n",
       "      <td>4</td>\n",
       "      <td>4.6</td>\n",
       "      <td>3.1</td>\n",
       "      <td>1.5</td>\n",
       "      <td>0.2</td>\n",
       "      <td>Iris-setosa</td>\n",
       "    </tr>\n",
       "    <tr>\n",
       "      <th>4</th>\n",
       "      <td>5</td>\n",
       "      <td>5.0</td>\n",
       "      <td>3.6</td>\n",
       "      <td>1.4</td>\n",
       "      <td>0.2</td>\n",
       "      <td>Iris-setosa</td>\n",
       "    </tr>\n",
       "  </tbody>\n",
       "</table>\n",
       "</div>"
      ],
      "text/plain": [
       "   Id  SepalLengthCm  SepalWidthCm  PetalLengthCm  PetalWidthCm      Species\n",
       "0   1            5.1           3.5            1.4           0.2  Iris-setosa\n",
       "1   2            4.9           3.0            1.4           0.2  Iris-setosa\n",
       "2   3            4.7           3.2            1.3           0.2  Iris-setosa\n",
       "3   4            4.6           3.1            1.5           0.2  Iris-setosa\n",
       "4   5            5.0           3.6            1.4           0.2  Iris-setosa"
      ]
     },
     "execution_count": 115,
     "metadata": {},
     "output_type": "execute_result"
    }
   ],
   "source": [
    "df.head()"
   ]
  },
  {
   "cell_type": "code",
   "execution_count": null,
   "id": "446c894d-7d3e-498a-a334-cc432d1d8f5a",
   "metadata": {},
   "outputs": [],
   "source": []
  },
  {
   "cell_type": "code",
   "execution_count": null,
   "id": "f477ebf3-3cad-4865-ba71-584d79728520",
   "metadata": {},
   "outputs": [],
   "source": []
  },
  {
   "cell_type": "code",
   "execution_count": null,
   "id": "c7f48237-7bc1-49e7-b9f2-177493dd9f4d",
   "metadata": {},
   "outputs": [],
   "source": []
  },
  {
   "cell_type": "code",
   "execution_count": null,
   "id": "68e6cbb3-d9c0-4621-8afd-f5fdc04c6158",
   "metadata": {},
   "outputs": [],
   "source": []
  }
 ],
 "metadata": {
  "kernelspec": {
   "display_name": "Python 3 (ipykernel)",
   "language": "python",
   "name": "python3"
  },
  "language_info": {
   "codemirror_mode": {
    "name": "ipython",
    "version": 3
   },
   "file_extension": ".py",
   "mimetype": "text/x-python",
   "name": "python",
   "nbconvert_exporter": "python",
   "pygments_lexer": "ipython3",
   "version": "3.11.5"
  }
 },
 "nbformat": 4,
 "nbformat_minor": 5
}
